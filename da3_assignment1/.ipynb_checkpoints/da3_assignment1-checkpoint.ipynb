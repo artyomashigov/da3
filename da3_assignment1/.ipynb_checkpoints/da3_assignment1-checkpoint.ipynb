{
 "cells": [
  {
   "cell_type": "markdown",
   "id": "a16c46c2",
   "metadata": {},
   "source": [
    "Build four predictive models using linear regression for earnings per hour.\n",
    "1. Models: the target variable is earnings per hour, all others would be predictors.\n",
    "2. Model 1 shall be the simplest, model 4 the more complex. It shall be OLS. You shall\n",
    "explain your choice of predictors.\n",
    "3. Compare model performance of these models (a) RMSE in the full sample, (2) crossvalidated RMSE and (c) BIC in the full sample.\n",
    "4. Discuss the relationship between model complexity and performance. You may use visual\n",
    "aids.\n",
    "5. You should submit your code in Github and a 1 page report in pdf on Moodle along with\n",
    "the final Jupyter notebook file"
   ]
  },
  {
   "cell_type": "code",
   "execution_count": null,
   "id": "07ccc55d",
   "metadata": {},
   "outputs": [],
   "source": []
  }
 ],
 "metadata": {
  "kernelspec": {
   "display_name": "Python 3 (ipykernel)",
   "language": "python",
   "name": "python3"
  },
  "language_info": {
   "codemirror_mode": {
    "name": "ipython",
    "version": 3
   },
   "file_extension": ".py",
   "mimetype": "text/x-python",
   "name": "python",
   "nbconvert_exporter": "python",
   "pygments_lexer": "ipython3",
   "version": "3.11.4"
  }
 },
 "nbformat": 4,
 "nbformat_minor": 5
}
