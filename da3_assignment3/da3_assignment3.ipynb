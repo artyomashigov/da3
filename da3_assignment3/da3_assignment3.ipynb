{
 "cells": [
  {
   "cell_type": "markdown",
   "metadata": {},
   "source": [
    "## Instructions\n",
    "\n",
    "Goal: Your task is to build the best possible model to predict defaulted firms in the ‘Manufacture of\n",
    "computer, electronic and optical products’ industry, 2015.\n",
    "\n",
    "#### Hold-out sample\n",
    "\n",
    "To construct the hold-out sample, follow, the next specification:\n",
    "- Your definition of default should be the following:\n",
    " Existed in 2014 (sales > 0), but did not exists in 2015 (sales is 0 or missing)\n",
    "- We are only interested in predicting default for ‘ind2 == 26’, which is the selected industry, and the\n",
    "firm is a small or medium enterprise (SME). Thus, yearly sales in 2014 was between 1000 EUR and 10\n",
    "million EUR.\n",
    "- If you do the sample design properly, you have an overall of 1037 firms. 56 firms defaulted, and 981\n",
    "stayed alive. The average sales of the firms is 0.4902 million EUR, with the minimum of 0.00107 million\n",
    "EUR and 9.57648 million EUR.\n",
    "- You should not use this sample for modeling, only for your final prediction’s evaluation. If you use\n",
    "these data in any (visible) way to estimate a model, you will be penalized with -10 points. You should\n",
    "report your final model of choice’s following measures on this hold-out sample:\n",
    "    - Brier-score\n",
    "    - ROC curve\n",
    "    - AUC\n",
    "    - Accuracy, sensitivity, specificity (for optimal threshold)\n",
    "    - Expected loss and optimal threshold\n",
    "        - Expected loss is has the following parameters: loss(F N) = 15, loss(F P) = 3\n",
    "    - In addition, report the same descriptive statistics: number of firms, firms defaulted and stayed\n",
    "alive. Mean of sales, minimum and maximum values. This helps our work to evaluate and compare\n",
    "your results."
   ]
  },
  {
   "cell_type": "markdown",
   "metadata": {},
   "source": [
    "#### Task\n",
    "- Build the best prediction to classify the defaults.\n",
    "- You may do different feature engineering.\n",
    "- You may make any sample design decisions!\n",
    "- In each case, document your steps!\n",
    "- Have at least 3 different models and compare performance\n",
    "- Argue for your choice of models\n",
    "    - One model must be theoretically profound logistic regression.\n",
    "    - You can use any model you wish, even models that we have not covered in this course."
   ]
  },
  {
   "cell_type": "markdown",
   "metadata": {},
   "source": [
    "### SUBMISSION\n",
    "\n",
    "- A summary report (pdf), max 3 pages including tables and graphs discussing your work. It is targeted at data science team leaders\n",
    "    - Can use technical language\n",
    "    - But need to be the point\n",
    "    - Focus on key decision points, results, interpretation, decision\n",
    "- Technical report – a markdown / quarto in pdf/html with more technical discussion.\n",
    "    - May include code snippets\n",
    "    - May include additional tables and graphs\n",
    "    - Detail all decisions you made\n",
    "- Reports should link to code in Git Hub"
   ]
  },
  {
   "cell_type": "markdown",
   "metadata": {},
   "source": [
    "### Scoring weights\n",
    "Overall, you can get 30p from this task.\n",
    "- It is a prediction race. 15 points will be allocated according to model performance compared to your\n",
    "peers.\n",
    "    - You should aim to get the lowest expected loss value.\n",
    "    - Best gets 15 points; remaining is scaled as a distance from the closest.\n",
    "- The remaining 15 points can be earned for the following:\n",
    "    - Data prep, label, and feature engineering (5p)\n",
    "    - Model building, prediction, and model selection (5p)\n",
    "    - Discussion of steps, decisions, and results (3p)\n",
    "    - Quality of the write-up (2p)\n",
    "Submission deadline: 3rd of March, 2024, 23.59 CET"
   ]
  },
  {
   "cell_type": "markdown",
   "metadata": {},
   "source": [
    "## Introduction\n",
    "In this project we are going to predict corporate exit. We are going to predict the probability of firm exit and classify firms into prospective exiting firms and prospective staying in business firms. We are going to use `bisnode-firms` dataset. The data was collected and cleaned by Bisnode, a major European business information company.\n",
    "\n",
    "We will focus on companies in manufacturing electronic products. Using data prior to 2015 we will use to train and then test if companies stayed in the business in 2015.\n",
    "\n",
    "We don't have exact y variable for exiting, but we will consider one like if the company had sales >0 in 2014 and didn't exist in 2015 or sales was 0 or missing. So in that case our y is going to be 1, otherwise 0.\n",
    "\n"
   ]
  },
  {
   "cell_type": "code",
   "execution_count": 465,
   "metadata": {},
   "outputs": [],
   "source": [
    "import os\n",
    "import pandas as pd\n",
    "import numpy as np\n",
    "import sys\n",
    "import patsy\n",
    "import statsmodels.api as sm\n",
    "from sklearn.linear_model import LinearRegression, LogisticRegression, LogisticRegressionCV\n",
    "from sklearn.model_selection import train_test_split, GridSearchCV, KFold\n",
    "import sklearn.metrics as metrics\n",
    "from sklearn.metrics import brier_score_loss, roc_curve, auc, confusion_matrix, roc_auc_score, mean_squared_error\n",
    "from sklearn.ensemble import RandomForestClassifier\n",
    "from plotnine import *\n",
    "import seaborn as sns\n",
    "import matplotlib.pyplot as plt\n",
    "from sklearn.model_selection import train_test_split\n",
    "from sklearn.preprocessing import StandardScaler\n",
    "from sklearn.inspection import PartialDependenceDisplay\n",
    "from sklearn.inspection import partial_dependence\n",
    "from py_helper_functions import *\n",
    "\n",
    "import warnings\n",
    "warnings.filterwarnings('ignore')"
   ]
  },
  {
   "cell_type": "code",
   "execution_count": 388,
   "metadata": {},
   "outputs": [],
   "source": [
    "# helper functions\n",
    "\n",
    "def regression_results(y_true, y_pred):\n",
    "\n",
    "    # Regression metrics\n",
    "    explained_variance=metrics.explained_variance_score(y_true, y_pred)\n",
    "    mean_absolute_error=metrics.mean_absolute_error(y_true, y_pred) \n",
    "    mse=metrics.mean_squared_error(y_true, y_pred) \n",
    "    median_absolute_error=metrics.median_absolute_error(y_true, y_pred)\n",
    "    r2=metrics.r2_score(y_true, y_pred)\n",
    "\n",
    "    print('explained_variance: ', round(explained_variance,4))    \n",
    "    print('r2: ', round(r2,4))\n",
    "    print('MAE: ', round(mean_absolute_error,4))\n",
    "    print('MSE: ', round(mse,4))\n",
    "    print('RMSE: ', round(np.sqrt(mse),4))\n",
    "    \n",
    "def create_coef_matrix(X, model):\n",
    "    coef_matrix = pd.concat(\n",
    "        [pd.DataFrame(X.columns),pd.DataFrame(model.coef_.flatten())], axis = 1\n",
    "    )\n",
    "    coef_matrix.columns = ['variable', 'coefficient']\n",
    "    coef_matrix.iloc[-1] = ['Intercept', model.intercept_.flatten()[0]]\n",
    "    return coef_matrix\n",
    "\n",
    "def cv_summary(lambdas, C_values, model):\n",
    "    d = {'lambdas': lambdas, 'C_values': C_values, 'mean_cv_score': model.scores_[1].mean(axis = 0)}\n",
    "    return(pd.DataFrame(data=d))\n",
    "\n",
    "def create_roc_plot(y_true, y_pred):\n",
    "    fpr, tpr, thresholds = roc_curve(y_true, y_pred)\n",
    "    all_coords = pd.DataFrame({\n",
    "        'fpr': fpr,\n",
    "        'tpr': tpr,\n",
    "        'thresholds': thresholds\n",
    "    })\n",
    "    \n",
    "    plot = ggplot(all_coords, aes(x = 'fpr', y = 'tpr')) \\\n",
    "        + geom_line(size = 0.7) \\\n",
    "        + geom_area(position = 'identity', fill = 'mediumaquamarine', alpha = 0.3) \\\n",
    "        + xlab(\"False Positive Rate (1-Specifity)\") \\\n",
    "        + ylab(\"True Positive Rate (Sensitivity)\") \\\n",
    "        + geom_abline(intercept = 0, slope = 1,  linetype = \"dotted\", color = \"black\") \\\n",
    "        + scale_y_continuous(limits = (0, 1), expand = (0, 0.01)) \\\n",
    "        + scale_x_continuous(limits = (0, 1), expand = (0.01, 0)) \\\n",
    "        + theme_bw()\n",
    "    return(plot)\n",
    "\n",
    "def sigmoid_array(x):\n",
    "    return(1 / (1 + np.exp(-x)))\n",
    "\n",
    "def generate_fold_prediction(model, X, fold, param_index):\n",
    "    fold_coef = model.coefs_paths_[1][fold,param_index,:]\n",
    "    return(sigmoid_array(np.dot(X, np.transpose(fold_coef)[:-1]) +  np.transpose(fold_coef)[-1]))\n",
    "\n",
    "def create_loss_plot(all_coords, optimal_threshold, curr_exp_loss):\n",
    "    all_coords_copy = all_coords.copy()\n",
    "    all_coords_copy['loss'] = (all_coords_copy.false_pos*FP + all_coords_copy.false_neg*FN)/all_coords_copy.n\n",
    "    \n",
    "    t = optimal_threshold\n",
    "    l = curr_exp_loss\n",
    "    \n",
    "    plot = ggplot(all_coords_copy, aes(x = 'thresholds', y = 'loss')) + \\\n",
    "        geom_line(size=0.7) + \\\n",
    "        coord_cartesian(xlim=(0,1))+ \\\n",
    "        geom_vline(xintercept = t) + \\\n",
    "        annotate(geom = \"text\", x = t - 0.01, y= max(all_coords_copy.loss) - 0.4,\n",
    "                 label=\"best threshold: \" + str(round(t,2)), angle=90, size = 7) +\\\n",
    "        annotate(geom = \"text\", x = t + 0.06, y= l,\\\n",
    "                 label= str(round(l, 2)), size = 7) +\\\n",
    "        theme_bw()\n",
    "    return(plot)\n",
    "\n",
    "\n",
    "def create_roc_plot_with_optimal(all_coords, optimal_threshold):\n",
    "    all_coords_copy = all_coords.copy()\n",
    "    all_coords_copy['sp'] = all_coords_copy.true_neg/all_coords_copy.neg\n",
    "    all_coords_copy['se'] = all_coords_copy.true_pos/all_coords_copy.pos\n",
    "    \n",
    "    best_coords = all_coords_copy[all_coords_copy.thresholds == optimal_threshold]\n",
    "    sp = best_coords.sp.values[0]\n",
    "    se = best_coords.se.values[0]\n",
    "\n",
    "    plot = ggplot(all_coords_copy, aes(x = 'sp', y = 'se')) +\\\n",
    "        geom_line(color=color[0], size=0.7) +\\\n",
    "        scale_y_continuous(breaks = seq(0, 1.1, by = 0.1)) +\\\n",
    "        scale_x_reverse(breaks = seq(0, 1.1, by = 0.1)) +\\\n",
    "        geom_point(data = pd.DataFrame({'sp': [sp], 'se': [se]})) +\\\n",
    "        annotate(geom = \"text\", x = sp, y = se + 0.03,\n",
    "                 label = str(round(sp, 2)) + ', ' + str(round(se, 2)), size = 7) +\\\n",
    "        theme_bw()\n",
    "    return(plot)"
   ]
  },
  {
   "cell_type": "markdown",
   "metadata": {},
   "source": [
    "### Initial Setup"
   ]
  },
  {
   "cell_type": "code",
   "execution_count": 314,
   "metadata": {},
   "outputs": [
    {
     "data": {
      "text/html": [
       "<div>\n",
       "<style scoped>\n",
       "    .dataframe tbody tr th:only-of-type {\n",
       "        vertical-align: middle;\n",
       "    }\n",
       "\n",
       "    .dataframe tbody tr th {\n",
       "        vertical-align: top;\n",
       "    }\n",
       "\n",
       "    .dataframe thead th {\n",
       "        text-align: right;\n",
       "    }\n",
       "</style>\n",
       "<table border=\"1\" class=\"dataframe\">\n",
       "  <thead>\n",
       "    <tr style=\"text-align: right;\">\n",
       "      <th></th>\n",
       "      <th>comp_id</th>\n",
       "      <th>begin</th>\n",
       "      <th>end</th>\n",
       "      <th>COGS</th>\n",
       "      <th>amort</th>\n",
       "      <th>curr_assets</th>\n",
       "      <th>curr_liab</th>\n",
       "      <th>extra_exp</th>\n",
       "      <th>extra_inc</th>\n",
       "      <th>extra_profit_loss</th>\n",
       "      <th>finished_prod</th>\n",
       "      <th>fixed_assets</th>\n",
       "      <th>inc_bef_tax</th>\n",
       "      <th>intang_assets</th>\n",
       "      <th>inventories</th>\n",
       "      <th>liq_assets</th>\n",
       "      <th>material_exp</th>\n",
       "      <th>net_dom_sales</th>\n",
       "      <th>net_exp_sales</th>\n",
       "      <th>personnel_exp</th>\n",
       "      <th>profit_loss_year</th>\n",
       "      <th>sales</th>\n",
       "      <th>share_eq</th>\n",
       "      <th>subscribed_cap</th>\n",
       "      <th>tang_assets</th>\n",
       "      <th>wages</th>\n",
       "      <th>D</th>\n",
       "      <th>balsheet_flag</th>\n",
       "      <th>balsheet_length</th>\n",
       "      <th>balsheet_notfullyear</th>\n",
       "      <th>year</th>\n",
       "      <th>founded_year</th>\n",
       "      <th>exit_year</th>\n",
       "      <th>ceo_count</th>\n",
       "      <th>foreign</th>\n",
       "      <th>female</th>\n",
       "      <th>birth_year</th>\n",
       "      <th>inoffice_days</th>\n",
       "      <th>gender</th>\n",
       "      <th>origin</th>\n",
       "      <th>nace_main</th>\n",
       "      <th>ind2</th>\n",
       "      <th>ind</th>\n",
       "      <th>urban_m</th>\n",
       "      <th>region_m</th>\n",
       "      <th>founded_date</th>\n",
       "      <th>exit_date</th>\n",
       "      <th>labor_avg</th>\n",
       "    </tr>\n",
       "  </thead>\n",
       "  <tbody>\n",
       "    <tr>\n",
       "      <th>0</th>\n",
       "      <td>1001034.0</td>\n",
       "      <td>2005-01-01</td>\n",
       "      <td>2005-12-31</td>\n",
       "      <td>NaN</td>\n",
       "      <td>692.592590</td>\n",
       "      <td>7266.666504</td>\n",
       "      <td>7574.074219</td>\n",
       "      <td>0.0</td>\n",
       "      <td>0.0</td>\n",
       "      <td>0.0</td>\n",
       "      <td>NaN</td>\n",
       "      <td>1229.629639</td>\n",
       "      <td>218.518524</td>\n",
       "      <td>0.0</td>\n",
       "      <td>4355.555664</td>\n",
       "      <td>2911.111084</td>\n",
       "      <td>38222.222656</td>\n",
       "      <td>NaN</td>\n",
       "      <td>NaN</td>\n",
       "      <td>22222.222656</td>\n",
       "      <td>62.962963</td>\n",
       "      <td>62751.851562</td>\n",
       "      <td>881.481506</td>\n",
       "      <td>1388.888916</td>\n",
       "      <td>1229.629639</td>\n",
       "      <td>NaN</td>\n",
       "      <td>NaN</td>\n",
       "      <td>0</td>\n",
       "      <td>364</td>\n",
       "      <td>0</td>\n",
       "      <td>2005</td>\n",
       "      <td>1990.0</td>\n",
       "      <td>NaN</td>\n",
       "      <td>2.0</td>\n",
       "      <td>0.0</td>\n",
       "      <td>0.5</td>\n",
       "      <td>1968.0</td>\n",
       "      <td>5686.5</td>\n",
       "      <td>mix</td>\n",
       "      <td>Domestic</td>\n",
       "      <td>5630.0</td>\n",
       "      <td>56.0</td>\n",
       "      <td>3.0</td>\n",
       "      <td>1</td>\n",
       "      <td>Central</td>\n",
       "      <td>1990-11-19</td>\n",
       "      <td>NaN</td>\n",
       "      <td>NaN</td>\n",
       "    </tr>\n",
       "    <tr>\n",
       "      <th>1</th>\n",
       "      <td>1001034.0</td>\n",
       "      <td>2006-01-01</td>\n",
       "      <td>2006-12-31</td>\n",
       "      <td>NaN</td>\n",
       "      <td>603.703674</td>\n",
       "      <td>13122.222656</td>\n",
       "      <td>12211.111328</td>\n",
       "      <td>0.0</td>\n",
       "      <td>0.0</td>\n",
       "      <td>0.0</td>\n",
       "      <td>NaN</td>\n",
       "      <td>725.925903</td>\n",
       "      <td>996.296326</td>\n",
       "      <td>0.0</td>\n",
       "      <td>7225.925781</td>\n",
       "      <td>5896.296387</td>\n",
       "      <td>38140.742188</td>\n",
       "      <td>NaN</td>\n",
       "      <td>NaN</td>\n",
       "      <td>23844.445312</td>\n",
       "      <td>755.555542</td>\n",
       "      <td>64625.925781</td>\n",
       "      <td>1637.036987</td>\n",
       "      <td>1388.888916</td>\n",
       "      <td>725.925903</td>\n",
       "      <td>NaN</td>\n",
       "      <td>NaN</td>\n",
       "      <td>0</td>\n",
       "      <td>364</td>\n",
       "      <td>0</td>\n",
       "      <td>2006</td>\n",
       "      <td>1990.0</td>\n",
       "      <td>NaN</td>\n",
       "      <td>2.0</td>\n",
       "      <td>0.0</td>\n",
       "      <td>0.5</td>\n",
       "      <td>1968.0</td>\n",
       "      <td>5686.5</td>\n",
       "      <td>mix</td>\n",
       "      <td>Domestic</td>\n",
       "      <td>5630.0</td>\n",
       "      <td>56.0</td>\n",
       "      <td>3.0</td>\n",
       "      <td>1</td>\n",
       "      <td>Central</td>\n",
       "      <td>1990-11-19</td>\n",
       "      <td>NaN</td>\n",
       "      <td>NaN</td>\n",
       "    </tr>\n",
       "  </tbody>\n",
       "</table>\n",
       "</div>"
      ],
      "text/plain": [
       "     comp_id       begin         end  COGS       amort   curr_assets  \\\n",
       "0  1001034.0  2005-01-01  2005-12-31   NaN  692.592590   7266.666504   \n",
       "1  1001034.0  2006-01-01  2006-12-31   NaN  603.703674  13122.222656   \n",
       "\n",
       "      curr_liab  extra_exp  extra_inc  extra_profit_loss  finished_prod  \\\n",
       "0   7574.074219        0.0        0.0                0.0            NaN   \n",
       "1  12211.111328        0.0        0.0                0.0            NaN   \n",
       "\n",
       "   fixed_assets  inc_bef_tax  intang_assets  inventories   liq_assets  \\\n",
       "0   1229.629639   218.518524            0.0  4355.555664  2911.111084   \n",
       "1    725.925903   996.296326            0.0  7225.925781  5896.296387   \n",
       "\n",
       "   material_exp  net_dom_sales  net_exp_sales  personnel_exp  \\\n",
       "0  38222.222656            NaN            NaN   22222.222656   \n",
       "1  38140.742188            NaN            NaN   23844.445312   \n",
       "\n",
       "   profit_loss_year         sales     share_eq  subscribed_cap  tang_assets  \\\n",
       "0         62.962963  62751.851562   881.481506     1388.888916  1229.629639   \n",
       "1        755.555542  64625.925781  1637.036987     1388.888916   725.925903   \n",
       "\n",
       "   wages   D  balsheet_flag  balsheet_length  balsheet_notfullyear  year  \\\n",
       "0    NaN NaN              0              364                     0  2005   \n",
       "1    NaN NaN              0              364                     0  2006   \n",
       "\n",
       "   founded_year  exit_year  ceo_count  foreign  female  birth_year  \\\n",
       "0        1990.0        NaN        2.0      0.0     0.5      1968.0   \n",
       "1        1990.0        NaN        2.0      0.0     0.5      1968.0   \n",
       "\n",
       "   inoffice_days gender    origin  nace_main  ind2  ind  urban_m region_m  \\\n",
       "0         5686.5    mix  Domestic     5630.0  56.0  3.0        1  Central   \n",
       "1         5686.5    mix  Domestic     5630.0  56.0  3.0        1  Central   \n",
       "\n",
       "  founded_date exit_date  labor_avg  \n",
       "0   1990-11-19       NaN        NaN  \n",
       "1   1990-11-19       NaN        NaN  "
      ]
     },
     "execution_count": 314,
     "metadata": {},
     "output_type": "execute_result"
    }
   ],
   "source": [
    "# read the data\n",
    "raw_data = pd.read_csv(\"https://osf.io/download/3qyut/\")\n",
    "# show the first 2 rows\n",
    "raw_data.head(2)"
   ]
  },
  {
   "cell_type": "markdown",
   "metadata": {},
   "source": [
    "### Form Holdout set"
   ]
  },
  {
   "cell_type": "code",
   "execution_count": 315,
   "metadata": {},
   "outputs": [
    {
     "data": {
      "text/plain": [
       "Index(['comp_id', 'begin', 'end', 'COGS', 'amort', 'curr_assets', 'curr_liab',\n",
       "       'extra_exp', 'extra_inc', 'extra_profit_loss', 'finished_prod',\n",
       "       'fixed_assets', 'inc_bef_tax', 'intang_assets', 'inventories',\n",
       "       'liq_assets', 'material_exp', 'net_dom_sales', 'net_exp_sales',\n",
       "       'personnel_exp', 'profit_loss_year', 'sales', 'share_eq',\n",
       "       'subscribed_cap', 'tang_assets', 'wages', 'D', 'balsheet_flag',\n",
       "       'balsheet_length', 'balsheet_notfullyear', 'year', 'founded_year',\n",
       "       'exit_year', 'ceo_count', 'foreign', 'female', 'birth_year',\n",
       "       'inoffice_days', 'gender', 'origin', 'nace_main', 'ind2', 'ind',\n",
       "       'urban_m', 'region_m', 'founded_date', 'exit_date', 'labor_avg'],\n",
       "      dtype='object')"
      ]
     },
     "execution_count": 315,
     "metadata": {},
     "output_type": "execute_result"
    }
   ],
   "source": [
    "raw_data.shape\n",
    "raw_data.columns"
   ]
  },
  {
   "cell_type": "code",
   "execution_count": 316,
   "metadata": {},
   "outputs": [
    {
     "data": {
      "text/html": [
       "<div>\n",
       "<style scoped>\n",
       "    .dataframe tbody tr th:only-of-type {\n",
       "        vertical-align: middle;\n",
       "    }\n",
       "\n",
       "    .dataframe tbody tr th {\n",
       "        vertical-align: top;\n",
       "    }\n",
       "\n",
       "    .dataframe thead th {\n",
       "        text-align: right;\n",
       "    }\n",
       "</style>\n",
       "<table border=\"1\" class=\"dataframe\">\n",
       "  <thead>\n",
       "    <tr style=\"text-align: right;\">\n",
       "      <th></th>\n",
       "      <th>comp_id</th>\n",
       "      <th>begin</th>\n",
       "      <th>end</th>\n",
       "      <th>COGS</th>\n",
       "      <th>amort</th>\n",
       "      <th>curr_assets</th>\n",
       "      <th>curr_liab</th>\n",
       "      <th>extra_exp</th>\n",
       "      <th>extra_inc</th>\n",
       "      <th>extra_profit_loss</th>\n",
       "      <th>finished_prod</th>\n",
       "      <th>fixed_assets</th>\n",
       "      <th>inc_bef_tax</th>\n",
       "      <th>intang_assets</th>\n",
       "      <th>inventories</th>\n",
       "      <th>liq_assets</th>\n",
       "      <th>material_exp</th>\n",
       "      <th>net_dom_sales</th>\n",
       "      <th>net_exp_sales</th>\n",
       "      <th>personnel_exp</th>\n",
       "      <th>profit_loss_year</th>\n",
       "      <th>sales</th>\n",
       "      <th>share_eq</th>\n",
       "      <th>subscribed_cap</th>\n",
       "      <th>tang_assets</th>\n",
       "      <th>wages</th>\n",
       "      <th>D</th>\n",
       "      <th>balsheet_flag</th>\n",
       "      <th>balsheet_length</th>\n",
       "      <th>balsheet_notfullyear</th>\n",
       "      <th>year</th>\n",
       "      <th>founded_year</th>\n",
       "      <th>exit_year</th>\n",
       "      <th>ceo_count</th>\n",
       "      <th>foreign</th>\n",
       "      <th>female</th>\n",
       "      <th>birth_year</th>\n",
       "      <th>inoffice_days</th>\n",
       "      <th>gender</th>\n",
       "      <th>origin</th>\n",
       "      <th>nace_main</th>\n",
       "      <th>ind2</th>\n",
       "      <th>ind</th>\n",
       "      <th>urban_m</th>\n",
       "      <th>region_m</th>\n",
       "      <th>founded_date</th>\n",
       "      <th>exit_date</th>\n",
       "      <th>labor_avg</th>\n",
       "    </tr>\n",
       "  </thead>\n",
       "  <tbody>\n",
       "    <tr>\n",
       "      <th>0</th>\n",
       "      <td>1001034.0</td>\n",
       "      <td>2005-01-01</td>\n",
       "      <td>2005-12-31</td>\n",
       "      <td>NaN</td>\n",
       "      <td>692.592590</td>\n",
       "      <td>7266.666504</td>\n",
       "      <td>7574.074219</td>\n",
       "      <td>0.0</td>\n",
       "      <td>0.0</td>\n",
       "      <td>0.0</td>\n",
       "      <td>NaN</td>\n",
       "      <td>1229.629639</td>\n",
       "      <td>218.518524</td>\n",
       "      <td>0.0</td>\n",
       "      <td>4355.555664</td>\n",
       "      <td>2911.111084</td>\n",
       "      <td>38222.222656</td>\n",
       "      <td>NaN</td>\n",
       "      <td>NaN</td>\n",
       "      <td>22222.222656</td>\n",
       "      <td>62.962963</td>\n",
       "      <td>62751.851562</td>\n",
       "      <td>881.481506</td>\n",
       "      <td>1388.888916</td>\n",
       "      <td>1229.629639</td>\n",
       "      <td>NaN</td>\n",
       "      <td>NaN</td>\n",
       "      <td>0</td>\n",
       "      <td>364</td>\n",
       "      <td>0</td>\n",
       "      <td>2005</td>\n",
       "      <td>1990.0</td>\n",
       "      <td>NaN</td>\n",
       "      <td>2.0</td>\n",
       "      <td>0.0</td>\n",
       "      <td>0.5</td>\n",
       "      <td>1968.0</td>\n",
       "      <td>5686.5</td>\n",
       "      <td>mix</td>\n",
       "      <td>Domestic</td>\n",
       "      <td>5630.0</td>\n",
       "      <td>56.0</td>\n",
       "      <td>3.0</td>\n",
       "      <td>1</td>\n",
       "      <td>Central</td>\n",
       "      <td>1990-11-19</td>\n",
       "      <td>NaN</td>\n",
       "      <td>NaN</td>\n",
       "    </tr>\n",
       "    <tr>\n",
       "      <th>1</th>\n",
       "      <td>1001034.0</td>\n",
       "      <td>2006-01-01</td>\n",
       "      <td>2006-12-31</td>\n",
       "      <td>NaN</td>\n",
       "      <td>603.703674</td>\n",
       "      <td>13122.222656</td>\n",
       "      <td>12211.111328</td>\n",
       "      <td>0.0</td>\n",
       "      <td>0.0</td>\n",
       "      <td>0.0</td>\n",
       "      <td>NaN</td>\n",
       "      <td>725.925903</td>\n",
       "      <td>996.296326</td>\n",
       "      <td>0.0</td>\n",
       "      <td>7225.925781</td>\n",
       "      <td>5896.296387</td>\n",
       "      <td>38140.742188</td>\n",
       "      <td>NaN</td>\n",
       "      <td>NaN</td>\n",
       "      <td>23844.445312</td>\n",
       "      <td>755.555542</td>\n",
       "      <td>64625.925781</td>\n",
       "      <td>1637.036987</td>\n",
       "      <td>1388.888916</td>\n",
       "      <td>725.925903</td>\n",
       "      <td>NaN</td>\n",
       "      <td>NaN</td>\n",
       "      <td>0</td>\n",
       "      <td>364</td>\n",
       "      <td>0</td>\n",
       "      <td>2006</td>\n",
       "      <td>1990.0</td>\n",
       "      <td>NaN</td>\n",
       "      <td>2.0</td>\n",
       "      <td>0.0</td>\n",
       "      <td>0.5</td>\n",
       "      <td>1968.0</td>\n",
       "      <td>5686.5</td>\n",
       "      <td>mix</td>\n",
       "      <td>Domestic</td>\n",
       "      <td>5630.0</td>\n",
       "      <td>56.0</td>\n",
       "      <td>3.0</td>\n",
       "      <td>1</td>\n",
       "      <td>Central</td>\n",
       "      <td>1990-11-19</td>\n",
       "      <td>NaN</td>\n",
       "      <td>NaN</td>\n",
       "    </tr>\n",
       "    <tr>\n",
       "      <th>2</th>\n",
       "      <td>1001034.0</td>\n",
       "      <td>2007-01-01</td>\n",
       "      <td>2007-12-31</td>\n",
       "      <td>NaN</td>\n",
       "      <td>425.925934</td>\n",
       "      <td>8196.295898</td>\n",
       "      <td>7800.000000</td>\n",
       "      <td>0.0</td>\n",
       "      <td>0.0</td>\n",
       "      <td>0.0</td>\n",
       "      <td>NaN</td>\n",
       "      <td>1322.222168</td>\n",
       "      <td>570.370361</td>\n",
       "      <td>0.0</td>\n",
       "      <td>7951.852051</td>\n",
       "      <td>177.777771</td>\n",
       "      <td>40174.074219</td>\n",
       "      <td>NaN</td>\n",
       "      <td>NaN</td>\n",
       "      <td>22262.962891</td>\n",
       "      <td>0.000000</td>\n",
       "      <td>65100.000000</td>\n",
       "      <td>1633.333374</td>\n",
       "      <td>1388.888916</td>\n",
       "      <td>1322.222168</td>\n",
       "      <td>NaN</td>\n",
       "      <td>NaN</td>\n",
       "      <td>0</td>\n",
       "      <td>364</td>\n",
       "      <td>0</td>\n",
       "      <td>2007</td>\n",
       "      <td>1990.0</td>\n",
       "      <td>NaN</td>\n",
       "      <td>2.0</td>\n",
       "      <td>0.0</td>\n",
       "      <td>0.5</td>\n",
       "      <td>1968.0</td>\n",
       "      <td>5686.5</td>\n",
       "      <td>mix</td>\n",
       "      <td>Domestic</td>\n",
       "      <td>5630.0</td>\n",
       "      <td>56.0</td>\n",
       "      <td>3.0</td>\n",
       "      <td>1</td>\n",
       "      <td>Central</td>\n",
       "      <td>1990-11-19</td>\n",
       "      <td>NaN</td>\n",
       "      <td>NaN</td>\n",
       "    </tr>\n",
       "    <tr>\n",
       "      <th>3</th>\n",
       "      <td>1001034.0</td>\n",
       "      <td>2008-01-01</td>\n",
       "      <td>2008-12-31</td>\n",
       "      <td>NaN</td>\n",
       "      <td>300.000000</td>\n",
       "      <td>8485.185547</td>\n",
       "      <td>7781.481445</td>\n",
       "      <td>0.0</td>\n",
       "      <td>0.0</td>\n",
       "      <td>0.0</td>\n",
       "      <td>NaN</td>\n",
       "      <td>1022.222229</td>\n",
       "      <td>714.814819</td>\n",
       "      <td>0.0</td>\n",
       "      <td>5233.333496</td>\n",
       "      <td>1392.592651</td>\n",
       "      <td>54274.074219</td>\n",
       "      <td>NaN</td>\n",
       "      <td>NaN</td>\n",
       "      <td>21107.408203</td>\n",
       "      <td>0.000000</td>\n",
       "      <td>78085.187500</td>\n",
       "      <td>1725.925903</td>\n",
       "      <td>1481.481445</td>\n",
       "      <td>1022.222229</td>\n",
       "      <td>NaN</td>\n",
       "      <td>NaN</td>\n",
       "      <td>0</td>\n",
       "      <td>365</td>\n",
       "      <td>0</td>\n",
       "      <td>2008</td>\n",
       "      <td>1990.0</td>\n",
       "      <td>NaN</td>\n",
       "      <td>2.0</td>\n",
       "      <td>0.0</td>\n",
       "      <td>0.5</td>\n",
       "      <td>1968.0</td>\n",
       "      <td>5686.5</td>\n",
       "      <td>mix</td>\n",
       "      <td>Domestic</td>\n",
       "      <td>5630.0</td>\n",
       "      <td>56.0</td>\n",
       "      <td>3.0</td>\n",
       "      <td>1</td>\n",
       "      <td>Central</td>\n",
       "      <td>1990-11-19</td>\n",
       "      <td>NaN</td>\n",
       "      <td>NaN</td>\n",
       "    </tr>\n",
       "    <tr>\n",
       "      <th>4</th>\n",
       "      <td>1001034.0</td>\n",
       "      <td>2009-01-01</td>\n",
       "      <td>2009-12-31</td>\n",
       "      <td>NaN</td>\n",
       "      <td>207.407410</td>\n",
       "      <td>5137.037109</td>\n",
       "      <td>15300.000000</td>\n",
       "      <td>0.0</td>\n",
       "      <td>0.0</td>\n",
       "      <td>0.0</td>\n",
       "      <td>NaN</td>\n",
       "      <td>814.814819</td>\n",
       "      <td>-11044.444336</td>\n",
       "      <td>0.0</td>\n",
       "      <td>3259.259277</td>\n",
       "      <td>11.111111</td>\n",
       "      <td>41755.554688</td>\n",
       "      <td>NaN</td>\n",
       "      <td>NaN</td>\n",
       "      <td>13237.037109</td>\n",
       "      <td>-11074.074219</td>\n",
       "      <td>45388.890625</td>\n",
       "      <td>-9348.148438</td>\n",
       "      <td>1481.481445</td>\n",
       "      <td>814.814819</td>\n",
       "      <td>NaN</td>\n",
       "      <td>NaN</td>\n",
       "      <td>0</td>\n",
       "      <td>364</td>\n",
       "      <td>0</td>\n",
       "      <td>2009</td>\n",
       "      <td>1990.0</td>\n",
       "      <td>NaN</td>\n",
       "      <td>2.0</td>\n",
       "      <td>0.0</td>\n",
       "      <td>0.5</td>\n",
       "      <td>1968.0</td>\n",
       "      <td>5686.5</td>\n",
       "      <td>mix</td>\n",
       "      <td>Domestic</td>\n",
       "      <td>5630.0</td>\n",
       "      <td>56.0</td>\n",
       "      <td>3.0</td>\n",
       "      <td>1</td>\n",
       "      <td>Central</td>\n",
       "      <td>1990-11-19</td>\n",
       "      <td>NaN</td>\n",
       "      <td>0.083333</td>\n",
       "    </tr>\n",
       "  </tbody>\n",
       "</table>\n",
       "</div>"
      ],
      "text/plain": [
       "     comp_id       begin         end  COGS       amort   curr_assets  \\\n",
       "0  1001034.0  2005-01-01  2005-12-31   NaN  692.592590   7266.666504   \n",
       "1  1001034.0  2006-01-01  2006-12-31   NaN  603.703674  13122.222656   \n",
       "2  1001034.0  2007-01-01  2007-12-31   NaN  425.925934   8196.295898   \n",
       "3  1001034.0  2008-01-01  2008-12-31   NaN  300.000000   8485.185547   \n",
       "4  1001034.0  2009-01-01  2009-12-31   NaN  207.407410   5137.037109   \n",
       "\n",
       "      curr_liab  extra_exp  extra_inc  extra_profit_loss  finished_prod  \\\n",
       "0   7574.074219        0.0        0.0                0.0            NaN   \n",
       "1  12211.111328        0.0        0.0                0.0            NaN   \n",
       "2   7800.000000        0.0        0.0                0.0            NaN   \n",
       "3   7781.481445        0.0        0.0                0.0            NaN   \n",
       "4  15300.000000        0.0        0.0                0.0            NaN   \n",
       "\n",
       "   fixed_assets   inc_bef_tax  intang_assets  inventories   liq_assets  \\\n",
       "0   1229.629639    218.518524            0.0  4355.555664  2911.111084   \n",
       "1    725.925903    996.296326            0.0  7225.925781  5896.296387   \n",
       "2   1322.222168    570.370361            0.0  7951.852051   177.777771   \n",
       "3   1022.222229    714.814819            0.0  5233.333496  1392.592651   \n",
       "4    814.814819 -11044.444336            0.0  3259.259277    11.111111   \n",
       "\n",
       "   material_exp  net_dom_sales  net_exp_sales  personnel_exp  \\\n",
       "0  38222.222656            NaN            NaN   22222.222656   \n",
       "1  38140.742188            NaN            NaN   23844.445312   \n",
       "2  40174.074219            NaN            NaN   22262.962891   \n",
       "3  54274.074219            NaN            NaN   21107.408203   \n",
       "4  41755.554688            NaN            NaN   13237.037109   \n",
       "\n",
       "   profit_loss_year         sales     share_eq  subscribed_cap  tang_assets  \\\n",
       "0         62.962963  62751.851562   881.481506     1388.888916  1229.629639   \n",
       "1        755.555542  64625.925781  1637.036987     1388.888916   725.925903   \n",
       "2          0.000000  65100.000000  1633.333374     1388.888916  1322.222168   \n",
       "3          0.000000  78085.187500  1725.925903     1481.481445  1022.222229   \n",
       "4     -11074.074219  45388.890625 -9348.148438     1481.481445   814.814819   \n",
       "\n",
       "   wages   D  balsheet_flag  balsheet_length  balsheet_notfullyear  year  \\\n",
       "0    NaN NaN              0              364                     0  2005   \n",
       "1    NaN NaN              0              364                     0  2006   \n",
       "2    NaN NaN              0              364                     0  2007   \n",
       "3    NaN NaN              0              365                     0  2008   \n",
       "4    NaN NaN              0              364                     0  2009   \n",
       "\n",
       "   founded_year  exit_year  ceo_count  foreign  female  birth_year  \\\n",
       "0        1990.0        NaN        2.0      0.0     0.5      1968.0   \n",
       "1        1990.0        NaN        2.0      0.0     0.5      1968.0   \n",
       "2        1990.0        NaN        2.0      0.0     0.5      1968.0   \n",
       "3        1990.0        NaN        2.0      0.0     0.5      1968.0   \n",
       "4        1990.0        NaN        2.0      0.0     0.5      1968.0   \n",
       "\n",
       "   inoffice_days gender    origin  nace_main  ind2  ind  urban_m region_m  \\\n",
       "0         5686.5    mix  Domestic     5630.0  56.0  3.0        1  Central   \n",
       "1         5686.5    mix  Domestic     5630.0  56.0  3.0        1  Central   \n",
       "2         5686.5    mix  Domestic     5630.0  56.0  3.0        1  Central   \n",
       "3         5686.5    mix  Domestic     5630.0  56.0  3.0        1  Central   \n",
       "4         5686.5    mix  Domestic     5630.0  56.0  3.0        1  Central   \n",
       "\n",
       "  founded_date exit_date  labor_avg  \n",
       "0   1990-11-19       NaN        NaN  \n",
       "1   1990-11-19       NaN        NaN  \n",
       "2   1990-11-19       NaN        NaN  \n",
       "3   1990-11-19       NaN        NaN  \n",
       "4   1990-11-19       NaN   0.083333  "
      ]
     },
     "execution_count": 316,
     "metadata": {},
     "output_type": "execute_result"
    }
   ],
   "source": [
    "raw_data.head()"
   ]
  },
  {
   "cell_type": "code",
   "execution_count": 317,
   "metadata": {},
   "outputs": [
    {
     "name": "stdout",
     "output_type": "stream",
     "text": [
      "Number of firms that stayed alive: 981\n",
      "Number of firms that defaulted: 56\n"
     ]
    }
   ],
   "source": [
    "# Filter for eligible firms in 2014 within the specified industry and sales range.\n",
    "eligible_firms_2014 = raw_data[(raw_data['year'] == 2014) & (raw_data['ind2'] == 26) & (raw_data['sales'] >= 1000) & (raw_data['sales'] <= 10000000)]\n",
    "\n",
    "# Identify firms in 2015 to check their status.\n",
    "firms_2015 = raw_data[(raw_data['year'] == 2015) & (raw_data['ind2'] == 26)]\n",
    "\n",
    "# Determine which of the eligible firms from 2014 stayed alive in 2015 by having sales > 0.\n",
    "stayed_firms = firms_2015[firms_2015['comp_id'].isin(eligible_firms_2014['comp_id']) & (firms_2015['sales'] > 0)]\n",
    "\n",
    "# Determine defaulted firms as those who were present in 2014 but not in 2015 or had sales = 0 in 2015.\n",
    "defaulted_firms = eligible_firms_2014[~eligible_firms_2014['comp_id'].isin(stayed_firms['comp_id'])]\n",
    "\n",
    "# Counts\n",
    "num_stayed = stayed_firms['comp_id'].nunique()  # Ensure unique firms are counted once\n",
    "num_defaulted = defaulted_firms['comp_id'].nunique()\n",
    "\n",
    "# print the counts of firms that stayed alive and defaulted in 2015 for the companies that operated in 2014\n",
    "print(f\"Number of firms that stayed alive: {num_stayed}\")\n",
    "print(f\"Number of firms that defaulted: {num_defaulted}\")\n"
   ]
  },
  {
   "cell_type": "markdown",
   "metadata": {},
   "source": [
    "### Cleaning and feature engineering"
   ]
  },
  {
   "cell_type": "code",
   "execution_count": 318,
   "metadata": {},
   "outputs": [],
   "source": [
    "# display all rows\n",
    "pd.set_option('display.max_rows', None)"
   ]
  },
  {
   "cell_type": "code",
   "execution_count": 319,
   "metadata": {},
   "outputs": [
    {
     "name": "stdout",
     "output_type": "stream",
     "text": [
      "<class 'pandas.core.frame.DataFrame'>\n",
      "RangeIndex: 287829 entries, 0 to 287828\n",
      "Data columns (total 48 columns):\n",
      " #   Column                Non-Null Count   Dtype  \n",
      "---  ------                --------------   -----  \n",
      " 0   comp_id               287829 non-null  float64\n",
      " 1   begin                 287829 non-null  object \n",
      " 2   end                   287829 non-null  object \n",
      " 3   COGS                  18257 non-null   float64\n",
      " 4   amort                 279789 non-null  float64\n",
      " 5   curr_assets           287698 non-null  float64\n",
      " 6   curr_liab             287698 non-null  float64\n",
      " 7   extra_exp             269300 non-null  float64\n",
      " 8   extra_inc             269300 non-null  float64\n",
      " 9   extra_profit_loss     270626 non-null  float64\n",
      " 10  finished_prod         17485 non-null   float64\n",
      " 11  fixed_assets          287698 non-null  float64\n",
      " 12  inc_bef_tax           280392 non-null  float64\n",
      " 13  intang_assets         287689 non-null  float64\n",
      " 14  inventories           287698 non-null  float64\n",
      " 15  liq_assets            287698 non-null  float64\n",
      " 16  material_exp          279789 non-null  float64\n",
      " 17  net_dom_sales         18257 non-null   float64\n",
      " 18  net_exp_sales         18257 non-null   float64\n",
      " 19  personnel_exp         279789 non-null  float64\n",
      " 20  profit_loss_year      277945 non-null  float64\n",
      " 21  sales                 280392 non-null  float64\n",
      " 22  share_eq              287698 non-null  float64\n",
      " 23  subscribed_cap        287698 non-null  float64\n",
      " 24  tang_assets           286359 non-null  float64\n",
      " 25  wages                 17983 non-null   float64\n",
      " 26  D                     0 non-null       float64\n",
      " 27  balsheet_flag         287829 non-null  int64  \n",
      " 28  balsheet_length       287829 non-null  int64  \n",
      " 29  balsheet_notfullyear  287829 non-null  int64  \n",
      " 30  year                  287829 non-null  int64  \n",
      " 31  founded_year          231372 non-null  float64\n",
      " 32  exit_year             38859 non-null   float64\n",
      " 33  ceo_count             231402 non-null  float64\n",
      " 34  foreign               231402 non-null  float64\n",
      " 35  female                231402 non-null  float64\n",
      " 36  birth_year            176011 non-null  float64\n",
      " 37  inoffice_days         231402 non-null  float64\n",
      " 38  gender                231402 non-null  object \n",
      " 39  origin                231402 non-null  object \n",
      " 40  nace_main             286791 non-null  float64\n",
      " 41  ind2                  286791 non-null  float64\n",
      " 42  ind                   278060 non-null  float64\n",
      " 43  urban_m               287829 non-null  int64  \n",
      " 44  region_m              286989 non-null  object \n",
      " 45  founded_date          287778 non-null  object \n",
      " 46  exit_date             56180 non-null   object \n",
      " 47  labor_avg             141297 non-null  float64\n",
      "dtypes: float64(36), int64(5), object(7)\n",
      "memory usage: 105.4+ MB\n"
     ]
    }
   ],
   "source": [
    "# Check for missing values. Show all columns with missing values.\n",
    "raw_data.info()\n"
   ]
  },
  {
   "cell_type": "code",
   "execution_count": 320,
   "metadata": {},
   "outputs": [
    {
     "data": {
      "text/plain": [
       "(287829, 48)"
      ]
     },
     "execution_count": 320,
     "metadata": {},
     "output_type": "execute_result"
    }
   ],
   "source": [
    "raw_data.shape"
   ]
  },
  {
   "cell_type": "code",
   "execution_count": 321,
   "metadata": {},
   "outputs": [
    {
     "data": {
      "text/plain": [
       "(278086, 48)"
      ]
     },
     "execution_count": 321,
     "metadata": {},
     "output_type": "execute_result"
    }
   ],
   "source": [
    "# drop year 2016\n",
    "df = raw_data[raw_data['year'] != 2016]\n",
    "df.shape"
   ]
  },
  {
   "cell_type": "code",
   "execution_count": 322,
   "metadata": {},
   "outputs": [
    {
     "data": {
      "text/plain": [
       "(278086, 40)"
      ]
     },
     "execution_count": 322,
     "metadata": {},
     "output_type": "execute_result"
    }
   ],
   "source": [
    "# drop columns with more than 70% missing values\n",
    "df = df.dropna(thresh=0.3*len(df), axis=1)\n",
    "df.shape"
   ]
  },
  {
   "cell_type": "code",
   "execution_count": 323,
   "metadata": {},
   "outputs": [
    {
     "data": {
      "text/plain": [
       "{'COGS',\n",
       " 'D',\n",
       " 'exit_date',\n",
       " 'exit_year',\n",
       " 'finished_prod',\n",
       " 'net_dom_sales',\n",
       " 'net_exp_sales',\n",
       " 'wages'}"
      ]
     },
     "execution_count": 323,
     "metadata": {},
     "output_type": "execute_result"
    }
   ],
   "source": [
    "# check the dropped columns\n",
    "set(raw_data.columns) - set(df.columns)"
   ]
  },
  {
   "cell_type": "code",
   "execution_count": 324,
   "metadata": {},
   "outputs": [],
   "source": [
    "# add all missing year and comp_id combinations -\n",
    "# originally missing combinations will have NAs in all other columns\n",
    "df = (\n",
    "    df.set_index([\"year\", \"comp_id\"])\n",
    "    .unstack(fill_value=\"toReplace\")\n",
    "    .stack()\n",
    "    .reset_index()\n",
    ")\n",
    "df = df.replace(\"toReplace\", np.nan)"
   ]
  },
  {
   "cell_type": "code",
   "execution_count": 325,
   "metadata": {},
   "outputs": [],
   "source": [
    "# generate status_alive; if sales larger than zero and not-NA, then firm is alive\n",
    "df[\"status_alive\"] = (df[\"sales\"] > 0 & (False == df[\"sales\"].isna())).astype(int)"
   ]
  },
  {
   "cell_type": "code",
   "execution_count": 326,
   "metadata": {},
   "outputs": [],
   "source": [
    "# default if there are sales in this year but no sales in the next year\n",
    "df[\"default\"] = (\n",
    "    (df[\"status_alive\"] == 1)\n",
    "    & (df.groupby(\"comp_id\")[\"status_alive\"].shift(-1) == 0)\n",
    ").astype(int)"
   ]
  },
  {
   "cell_type": "code",
   "execution_count": 327,
   "metadata": {},
   "outputs": [
    {
     "data": {
      "text/plain": [
       "flag_asset_problem\n",
       "0.0    277723\n",
       "1.0       223\n",
       "Name: comp_id, dtype: int64"
      ]
     },
     "execution_count": 327,
     "metadata": {},
     "output_type": "execute_result"
    }
   ],
   "source": [
    "# assets can't be negative. Change them to 0 and add a flag.\n",
    "df[\"flag_asset_problem\"] = np.where(\n",
    "    (\n",
    "        (df[\"intang_assets\"] < 0)\n",
    "        | (df[\"curr_assets\"] < 0)\n",
    "        | (df[\"fixed_assets\"] < 0)\n",
    "    ),\n",
    "    1,\n",
    "    0,\n",
    ")\n",
    "df[\"flag_asset_problem\"] = np.where(\n",
    "    (\n",
    "        (df[\"intang_assets\"].isna())\n",
    "        | (df[\"curr_assets\"].isna())\n",
    "        | (df[\"fixed_assets\"].isna())\n",
    "    ),\n",
    "    np.nan,\n",
    "    df[\"flag_asset_problem\"],\n",
    ")\n",
    "df.groupby(\"flag_asset_problem\").count()[\"comp_id\"]"
   ]
  },
  {
   "cell_type": "markdown",
   "metadata": {},
   "source": [
    "The dataset includes a process to ensure the integrity of asset data for each company. This process involves the following steps:\n",
    "\n",
    "1. **Flagging Asset Problems**: A new column, `flag_asset_problem`, is introduced to flag companies with potential issues in their asset reports. A company is flagged (`flag_asset_problem` = 1) if it reports negative values in any of the following asset categories: intangible assets (`intang_assets`), current assets (`curr_assets`), or fixed assets (`fixed_assets`). This flag serves as an indicator of potential data quality issues that warrant further investigation.\n",
    "\n",
    "2. **Handling Missing Data**: The process also accounts for missing asset data. If a company has any missing (NA) values in the aforementioned asset categories, the `flag_asset_problem` for that company is set to NaN. This distinction ensures that the flag specifically identifies known data quality issues, rather than penalizing companies for incomplete data records.\n",
    "\n",
    "3. **Data Summary**: The dataset is then grouped by the `flag_asset_problem` status, and a count of companies within each category is generated. This summary provides insight into the prevalence of asset-related data issues across the dataset, distinguishing between actual problems and cases of missing data.\n"
   ]
  },
  {
   "cell_type": "code",
   "execution_count": 328,
   "metadata": {},
   "outputs": [],
   "source": [
    "# Correct negative asset values to 0 for intangible, current, and fixed assets\n",
    "df[\"intang_assets\"] = np.where(df[\"intang_assets\"] < 0, 0, df[\"intang_assets\"])\n",
    "df[\"curr_assets\"] = np.where(df[\"curr_assets\"] < 0, 0, df[\"curr_assets\"])\n",
    "df[\"fixed_assets\"] = np.where(df[\"fixed_assets\"] < 0, 0, df[\"fixed_assets\"])"
   ]
  },
  {
   "cell_type": "code",
   "execution_count": 329,
   "metadata": {},
   "outputs": [],
   "source": [
    "# generate total assets\n",
    "df[\"total_assets_bs\"] = (\n",
    "    df[\"intang_assets\"] + df[\"curr_assets\"] + df[\"fixed_assets\"]\n",
    ")"
   ]
  },
  {
   "cell_type": "markdown",
   "metadata": {},
   "source": [
    "This code snippet preprocesses the sales column in a DataFrame by first addressing negative sales values, converting sales to a more interpretable scale, and computing logarithmic transformations for further analysis. Specifically, any negative values in the sales column are corrected to 1, under the assumption that sales cannot be negative and to prepare for logarithmic transformation. This adjustment is essential as the logarithm of a negative number is undefined, and setting negative sales to 1 ensures the logarithm operation can proceed without error.\n",
    "\n",
    "Following this, the code performs several transformations: it calculates the natural logarithm of sales (ln_sales), converting sales figures into their logarithmic scale to handle skewness in the data; it scales down sales figures to millions (sales_mil) for easier interpretation and analysis; and it computes the logarithm of the sales figures in millions (sales_mil_log). These steps are vital for data analysis and modeling, as they help normalize the distribution of sales figures, making patterns more discernible and statistical analyses more robust."
   ]
  },
  {
   "cell_type": "code",
   "execution_count": 330,
   "metadata": {},
   "outputs": [],
   "source": [
    "# Correct negative sales values to 1, compute log of sales, and scale sales to millions\n",
    "df[\"sales\"] = np.where(df[\"sales\"] < 0, 1, df[\"sales\"])  # Adjust negative sales values directly\n",
    "df = df.assign(\n",
    "    ln_sales=np.where(\n",
    "        df[\"sales\"] > 0,\n",
    "        np.log(df[\"sales\"]),  # Compute natural log of sales for positive sales values\n",
    "        (np.where(df[\"sales\"].isna(), np.nan, 0)),  # Keep NaN as NaN and set log(1) for corrected values to 0\n",
    "    ),\n",
    "    sales_mil=df[\"sales\"] / 1000000,  # Scale sales figures down to millions\n",
    "    sales_mil_log=np.where(\n",
    "        df[\"sales\"] > 0,\n",
    "        np.log(df[\"sales\"] / 1000000),  # Compute natural log of sales in millions for positive sales values\n",
    "        (np.where(df[\"sales\"].isna(), np.nan, 0)),  # Keep NaN as NaN and set log(1) for corrected values to 0\n",
    "    ),\n",
    ")\n"
   ]
  },
  {
   "cell_type": "code",
   "execution_count": 331,
   "metadata": {},
   "outputs": [
    {
     "data": {
      "text/html": [
       "<div>\n",
       "<style scoped>\n",
       "    .dataframe tbody tr th:only-of-type {\n",
       "        vertical-align: middle;\n",
       "    }\n",
       "\n",
       "    .dataframe tbody tr th {\n",
       "        vertical-align: top;\n",
       "    }\n",
       "\n",
       "    .dataframe thead th {\n",
       "        text-align: right;\n",
       "    }\n",
       "</style>\n",
       "<table border=\"1\" class=\"dataframe\">\n",
       "  <thead>\n",
       "    <tr style=\"text-align: right;\">\n",
       "      <th></th>\n",
       "      <th>year</th>\n",
       "      <th>comp_id</th>\n",
       "      <th>begin</th>\n",
       "      <th>end</th>\n",
       "      <th>amort</th>\n",
       "      <th>curr_assets</th>\n",
       "      <th>curr_liab</th>\n",
       "      <th>extra_exp</th>\n",
       "      <th>extra_inc</th>\n",
       "      <th>extra_profit_loss</th>\n",
       "      <th>fixed_assets</th>\n",
       "      <th>inc_bef_tax</th>\n",
       "      <th>intang_assets</th>\n",
       "      <th>inventories</th>\n",
       "      <th>liq_assets</th>\n",
       "      <th>material_exp</th>\n",
       "      <th>personnel_exp</th>\n",
       "      <th>profit_loss_year</th>\n",
       "      <th>sales</th>\n",
       "      <th>share_eq</th>\n",
       "      <th>subscribed_cap</th>\n",
       "      <th>tang_assets</th>\n",
       "      <th>balsheet_flag</th>\n",
       "      <th>balsheet_length</th>\n",
       "      <th>balsheet_notfullyear</th>\n",
       "      <th>founded_year</th>\n",
       "      <th>ceo_count</th>\n",
       "      <th>foreign</th>\n",
       "      <th>female</th>\n",
       "      <th>birth_year</th>\n",
       "      <th>inoffice_days</th>\n",
       "      <th>gender</th>\n",
       "      <th>origin</th>\n",
       "      <th>nace_main</th>\n",
       "      <th>ind2</th>\n",
       "      <th>ind</th>\n",
       "      <th>urban_m</th>\n",
       "      <th>region_m</th>\n",
       "      <th>founded_date</th>\n",
       "      <th>labor_avg</th>\n",
       "      <th>status_alive</th>\n",
       "      <th>default</th>\n",
       "      <th>flag_asset_problem</th>\n",
       "      <th>total_assets_bs</th>\n",
       "      <th>ln_sales</th>\n",
       "      <th>sales_mil</th>\n",
       "      <th>sales_mil_log</th>\n",
       "    </tr>\n",
       "  </thead>\n",
       "  <tbody>\n",
       "    <tr>\n",
       "      <th>0</th>\n",
       "      <td>2005</td>\n",
       "      <td>1001034.0</td>\n",
       "      <td>2005-01-01</td>\n",
       "      <td>2005-12-31</td>\n",
       "      <td>692.592590</td>\n",
       "      <td>7266.666504</td>\n",
       "      <td>7574.074219</td>\n",
       "      <td>0.0</td>\n",
       "      <td>0.000000</td>\n",
       "      <td>0.000000</td>\n",
       "      <td>1229.629639</td>\n",
       "      <td>218.518524</td>\n",
       "      <td>0.0</td>\n",
       "      <td>4355.555664</td>\n",
       "      <td>2911.111084</td>\n",
       "      <td>38222.222656</td>\n",
       "      <td>22222.222656</td>\n",
       "      <td>62.962963</td>\n",
       "      <td>62751.851562</td>\n",
       "      <td>881.481506</td>\n",
       "      <td>1388.888916</td>\n",
       "      <td>1229.629639</td>\n",
       "      <td>0.0</td>\n",
       "      <td>364.0</td>\n",
       "      <td>0.0</td>\n",
       "      <td>1990.0</td>\n",
       "      <td>2.0</td>\n",
       "      <td>0.0</td>\n",
       "      <td>0.5</td>\n",
       "      <td>1968.0</td>\n",
       "      <td>5686.5</td>\n",
       "      <td>mix</td>\n",
       "      <td>Domestic</td>\n",
       "      <td>5630.0</td>\n",
       "      <td>56.0</td>\n",
       "      <td>3.0</td>\n",
       "      <td>1.0</td>\n",
       "      <td>Central</td>\n",
       "      <td>1990-11-19</td>\n",
       "      <td>NaN</td>\n",
       "      <td>1</td>\n",
       "      <td>0</td>\n",
       "      <td>0.0</td>\n",
       "      <td>8496.296143</td>\n",
       "      <td>11.046943</td>\n",
       "      <td>0.062752</td>\n",
       "      <td>-2.768567</td>\n",
       "    </tr>\n",
       "    <tr>\n",
       "      <th>1</th>\n",
       "      <td>2005</td>\n",
       "      <td>1001541.0</td>\n",
       "      <td>NaN</td>\n",
       "      <td>NaN</td>\n",
       "      <td>NaN</td>\n",
       "      <td>NaN</td>\n",
       "      <td>NaN</td>\n",
       "      <td>NaN</td>\n",
       "      <td>NaN</td>\n",
       "      <td>NaN</td>\n",
       "      <td>NaN</td>\n",
       "      <td>NaN</td>\n",
       "      <td>NaN</td>\n",
       "      <td>NaN</td>\n",
       "      <td>NaN</td>\n",
       "      <td>NaN</td>\n",
       "      <td>NaN</td>\n",
       "      <td>NaN</td>\n",
       "      <td>NaN</td>\n",
       "      <td>NaN</td>\n",
       "      <td>NaN</td>\n",
       "      <td>NaN</td>\n",
       "      <td>NaN</td>\n",
       "      <td>NaN</td>\n",
       "      <td>NaN</td>\n",
       "      <td>NaN</td>\n",
       "      <td>NaN</td>\n",
       "      <td>NaN</td>\n",
       "      <td>NaN</td>\n",
       "      <td>NaN</td>\n",
       "      <td>NaN</td>\n",
       "      <td>NaN</td>\n",
       "      <td>NaN</td>\n",
       "      <td>NaN</td>\n",
       "      <td>NaN</td>\n",
       "      <td>NaN</td>\n",
       "      <td>NaN</td>\n",
       "      <td>NaN</td>\n",
       "      <td>NaN</td>\n",
       "      <td>NaN</td>\n",
       "      <td>0</td>\n",
       "      <td>0</td>\n",
       "      <td>NaN</td>\n",
       "      <td>NaN</td>\n",
       "      <td>NaN</td>\n",
       "      <td>NaN</td>\n",
       "      <td>NaN</td>\n",
       "    </tr>\n",
       "    <tr>\n",
       "      <th>2</th>\n",
       "      <td>2005</td>\n",
       "      <td>1002029.0</td>\n",
       "      <td>NaN</td>\n",
       "      <td>NaN</td>\n",
       "      <td>NaN</td>\n",
       "      <td>NaN</td>\n",
       "      <td>NaN</td>\n",
       "      <td>NaN</td>\n",
       "      <td>NaN</td>\n",
       "      <td>NaN</td>\n",
       "      <td>NaN</td>\n",
       "      <td>NaN</td>\n",
       "      <td>NaN</td>\n",
       "      <td>NaN</td>\n",
       "      <td>NaN</td>\n",
       "      <td>NaN</td>\n",
       "      <td>NaN</td>\n",
       "      <td>NaN</td>\n",
       "      <td>NaN</td>\n",
       "      <td>NaN</td>\n",
       "      <td>NaN</td>\n",
       "      <td>NaN</td>\n",
       "      <td>NaN</td>\n",
       "      <td>NaN</td>\n",
       "      <td>NaN</td>\n",
       "      <td>NaN</td>\n",
       "      <td>NaN</td>\n",
       "      <td>NaN</td>\n",
       "      <td>NaN</td>\n",
       "      <td>NaN</td>\n",
       "      <td>NaN</td>\n",
       "      <td>NaN</td>\n",
       "      <td>NaN</td>\n",
       "      <td>NaN</td>\n",
       "      <td>NaN</td>\n",
       "      <td>NaN</td>\n",
       "      <td>NaN</td>\n",
       "      <td>NaN</td>\n",
       "      <td>NaN</td>\n",
       "      <td>NaN</td>\n",
       "      <td>0</td>\n",
       "      <td>0</td>\n",
       "      <td>NaN</td>\n",
       "      <td>NaN</td>\n",
       "      <td>NaN</td>\n",
       "      <td>NaN</td>\n",
       "      <td>NaN</td>\n",
       "    </tr>\n",
       "    <tr>\n",
       "      <th>3</th>\n",
       "      <td>2005</td>\n",
       "      <td>1003200.0</td>\n",
       "      <td>2005-01-01</td>\n",
       "      <td>2005-12-31</td>\n",
       "      <td>25.925926</td>\n",
       "      <td>729.629639</td>\n",
       "      <td>3803.703613</td>\n",
       "      <td>0.0</td>\n",
       "      <td>4814.814941</td>\n",
       "      <td>4814.814941</td>\n",
       "      <td>1166.666626</td>\n",
       "      <td>-1277.777832</td>\n",
       "      <td>0.0</td>\n",
       "      <td>225.925919</td>\n",
       "      <td>459.259247</td>\n",
       "      <td>10140.741211</td>\n",
       "      <td>6855.555664</td>\n",
       "      <td>-1277.777832</td>\n",
       "      <td>11118.518555</td>\n",
       "      <td>-11907.407227</td>\n",
       "      <td>1851.851807</td>\n",
       "      <td>1166.666626</td>\n",
       "      <td>0.0</td>\n",
       "      <td>364.0</td>\n",
       "      <td>0.0</td>\n",
       "      <td>NaN</td>\n",
       "      <td>NaN</td>\n",
       "      <td>NaN</td>\n",
       "      <td>NaN</td>\n",
       "      <td>NaN</td>\n",
       "      <td>NaN</td>\n",
       "      <td>NaN</td>\n",
       "      <td>NaN</td>\n",
       "      <td>5630.0</td>\n",
       "      <td>56.0</td>\n",
       "      <td>3.0</td>\n",
       "      <td>1.0</td>\n",
       "      <td>Central</td>\n",
       "      <td>2003-10-21</td>\n",
       "      <td>NaN</td>\n",
       "      <td>1</td>\n",
       "      <td>0</td>\n",
       "      <td>0.0</td>\n",
       "      <td>1896.296265</td>\n",
       "      <td>9.316367</td>\n",
       "      <td>0.011119</td>\n",
       "      <td>-4.499143</td>\n",
       "    </tr>\n",
       "    <tr>\n",
       "      <th>4</th>\n",
       "      <td>2005</td>\n",
       "      <td>1004012.0</td>\n",
       "      <td>2005-01-01</td>\n",
       "      <td>2005-12-31</td>\n",
       "      <td>114.814812</td>\n",
       "      <td>1648.148193</td>\n",
       "      <td>3777.777832</td>\n",
       "      <td>0.0</td>\n",
       "      <td>0.000000</td>\n",
       "      <td>0.000000</td>\n",
       "      <td>0.000000</td>\n",
       "      <td>229.629623</td>\n",
       "      <td>0.0</td>\n",
       "      <td>0.000000</td>\n",
       "      <td>211.111115</td>\n",
       "      <td>1914.814819</td>\n",
       "      <td>3448.148193</td>\n",
       "      <td>229.629623</td>\n",
       "      <td>5833.333496</td>\n",
       "      <td>-2129.629639</td>\n",
       "      <td>74.074074</td>\n",
       "      <td>0.000000</td>\n",
       "      <td>0.0</td>\n",
       "      <td>364.0</td>\n",
       "      <td>0.0</td>\n",
       "      <td>1991.0</td>\n",
       "      <td>1.0</td>\n",
       "      <td>0.0</td>\n",
       "      <td>0.0</td>\n",
       "      <td>NaN</td>\n",
       "      <td>7722.0</td>\n",
       "      <td>male</td>\n",
       "      <td>Domestic</td>\n",
       "      <td>3314.0</td>\n",
       "      <td>33.0</td>\n",
       "      <td>2.0</td>\n",
       "      <td>3.0</td>\n",
       "      <td>West</td>\n",
       "      <td>1991-11-24</td>\n",
       "      <td>NaN</td>\n",
       "      <td>1</td>\n",
       "      <td>0</td>\n",
       "      <td>0.0</td>\n",
       "      <td>1648.148193</td>\n",
       "      <td>8.671344</td>\n",
       "      <td>0.005833</td>\n",
       "      <td>-5.144167</td>\n",
       "    </tr>\n",
       "  </tbody>\n",
       "</table>\n",
       "</div>"
      ],
      "text/plain": [
       "   year    comp_id       begin         end       amort  curr_assets  \\\n",
       "0  2005  1001034.0  2005-01-01  2005-12-31  692.592590  7266.666504   \n",
       "1  2005  1001541.0         NaN         NaN         NaN          NaN   \n",
       "2  2005  1002029.0         NaN         NaN         NaN          NaN   \n",
       "3  2005  1003200.0  2005-01-01  2005-12-31   25.925926   729.629639   \n",
       "4  2005  1004012.0  2005-01-01  2005-12-31  114.814812  1648.148193   \n",
       "\n",
       "     curr_liab  extra_exp    extra_inc  extra_profit_loss  fixed_assets  \\\n",
       "0  7574.074219        0.0     0.000000           0.000000   1229.629639   \n",
       "1          NaN        NaN          NaN                NaN           NaN   \n",
       "2          NaN        NaN          NaN                NaN           NaN   \n",
       "3  3803.703613        0.0  4814.814941        4814.814941   1166.666626   \n",
       "4  3777.777832        0.0     0.000000           0.000000      0.000000   \n",
       "\n",
       "   inc_bef_tax  intang_assets  inventories   liq_assets  material_exp  \\\n",
       "0   218.518524            0.0  4355.555664  2911.111084  38222.222656   \n",
       "1          NaN            NaN          NaN          NaN           NaN   \n",
       "2          NaN            NaN          NaN          NaN           NaN   \n",
       "3 -1277.777832            0.0   225.925919   459.259247  10140.741211   \n",
       "4   229.629623            0.0     0.000000   211.111115   1914.814819   \n",
       "\n",
       "   personnel_exp  profit_loss_year         sales      share_eq  \\\n",
       "0   22222.222656         62.962963  62751.851562    881.481506   \n",
       "1            NaN               NaN           NaN           NaN   \n",
       "2            NaN               NaN           NaN           NaN   \n",
       "3    6855.555664      -1277.777832  11118.518555 -11907.407227   \n",
       "4    3448.148193        229.629623   5833.333496  -2129.629639   \n",
       "\n",
       "   subscribed_cap  tang_assets  balsheet_flag  balsheet_length  \\\n",
       "0     1388.888916  1229.629639            0.0            364.0   \n",
       "1             NaN          NaN            NaN              NaN   \n",
       "2             NaN          NaN            NaN              NaN   \n",
       "3     1851.851807  1166.666626            0.0            364.0   \n",
       "4       74.074074     0.000000            0.0            364.0   \n",
       "\n",
       "   balsheet_notfullyear  founded_year  ceo_count  foreign  female  birth_year  \\\n",
       "0                   0.0        1990.0        2.0      0.0     0.5      1968.0   \n",
       "1                   NaN           NaN        NaN      NaN     NaN         NaN   \n",
       "2                   NaN           NaN        NaN      NaN     NaN         NaN   \n",
       "3                   0.0           NaN        NaN      NaN     NaN         NaN   \n",
       "4                   0.0        1991.0        1.0      0.0     0.0         NaN   \n",
       "\n",
       "   inoffice_days gender    origin  nace_main  ind2  ind  urban_m region_m  \\\n",
       "0         5686.5    mix  Domestic     5630.0  56.0  3.0      1.0  Central   \n",
       "1            NaN    NaN       NaN        NaN   NaN  NaN      NaN      NaN   \n",
       "2            NaN    NaN       NaN        NaN   NaN  NaN      NaN      NaN   \n",
       "3            NaN    NaN       NaN     5630.0  56.0  3.0      1.0  Central   \n",
       "4         7722.0   male  Domestic     3314.0  33.0  2.0      3.0     West   \n",
       "\n",
       "  founded_date  labor_avg  status_alive  default  flag_asset_problem  \\\n",
       "0   1990-11-19        NaN             1        0                 0.0   \n",
       "1          NaN        NaN             0        0                 NaN   \n",
       "2          NaN        NaN             0        0                 NaN   \n",
       "3   2003-10-21        NaN             1        0                 0.0   \n",
       "4   1991-11-24        NaN             1        0                 0.0   \n",
       "\n",
       "   total_assets_bs   ln_sales  sales_mil  sales_mil_log  \n",
       "0      8496.296143  11.046943   0.062752      -2.768567  \n",
       "1              NaN        NaN        NaN            NaN  \n",
       "2              NaN        NaN        NaN            NaN  \n",
       "3      1896.296265   9.316367   0.011119      -4.499143  \n",
       "4      1648.148193   8.671344   0.005833      -5.144167  "
      ]
     },
     "execution_count": 331,
     "metadata": {},
     "output_type": "execute_result"
    }
   ],
   "source": [
    "df.head()"
   ]
  },
  {
   "cell_type": "code",
   "execution_count": 332,
   "metadata": {},
   "outputs": [],
   "source": [
    "# Calculate year-over-year change in log-transformed sales (in millions) for each company\n",
    "df[\"d1_sales_mil_log\"] = df[\"sales_mil_log\"] - df.groupby(\"comp_id\")[\"sales_mil_log\"].shift(1)\n"
   ]
  },
  {
   "cell_type": "code",
   "execution_count": 333,
   "metadata": {},
   "outputs": [],
   "source": [
    "# Calculate the age of each firm by subtracting the founding year from the current year;\n",
    "# set age to 0 for any negative values indicating df anomalies or new firms.\n",
    "df[\"age\"] = np.where(\n",
    "    df[\"year\"] - df[\"founded_year\"] < 0, 0, df[\"year\"] - df[\"founded_year\"])\n",
    "\n",
    "# Create a \"new\" indicator variable that flags firms as new (1) if their age is 1 or less,\n",
    "# or if their balance sheet doesn't cover a full year; otherwise, set it to 0 or maintain NaN for missing age.\n",
    "df[\"new\"] = np.where(\n",
    "    ((df[\"age\"] <= 1) | (df[\"balsheet_notfullyear\"] == 1)), 1, (np.where(df[\"age\"].isna(), np.nan, 0)))\n",
    "\n",
    "# For new firms (identified by the \"new\" column),\n",
    "# set the year-over-year change in the logarithm of sales to 0 to avoid misleading calculations; maintain NaN where \"new\" is undefined.\n",
    "df[\"d1_sales_mil_log\"] = np.where(\n",
    "    df[\"new\"] == 1, 0, np.where(df[\"new\"].isna(), np.nan, df[\"d1_sales_mil_log\"]))\n",
    "\n",
    "# Reevaluate the \"new\" flag for firms based on the availability of the year-over-year sales log change;\n",
    "# if it's missing, consider the firm as new.\n",
    "df[\"new\"] = np.where(\n",
    "    df[\"d1_sales_mil_log\"].isna(), 1, df[\"new\"])\n",
    "\n",
    "# For firms without a year-over-year change in the sales log (likely new firms without prior year data),\n",
    "# set the change to 0 to standardize the dataset.\n",
    "df[\"d1_sales_mil_log\"] = np.where(df[\"d1_sales_mil_log\"].isna(), 0, df[\"d1_sales_mil_log\"])"
   ]
  },
  {
   "cell_type": "code",
   "execution_count": 334,
   "metadata": {},
   "outputs": [],
   "source": [
    "# Define P&L statement variable names for financial analysis\n",
    "pl_names = [\"extra_exp\", \"extra_inc\", \"extra_profit_loss\", \"inc_bef_tax\", \"inventories\", \"material_exp\", \"profit_loss_year\", \"personnel_exp\"]\n",
    "\n",
    "# Define balance sheet variable names for financial analysis\n",
    "bs_names = [\"intang_assets\", \"curr_liab\", \"fixed_assets\", \"liq_assets\", \"curr_assets\", \"share_eq\", \"subscribed_cap\", \"tang_assets\"]"
   ]
  },
  {
   "cell_type": "code",
   "execution_count": 335,
   "metadata": {},
   "outputs": [],
   "source": [
    "# Normalize selected P&L statement metrics by sales for comparative analysis\n",
    "df[[col + \"_pl\" for col in pl_names]] = df[pl_names].div(df[\"sales\"], axis=\"index\")\n",
    "\n",
    "# divide all bs_names elements by total_assets_bs and create new column for it\n",
    "df[[col + \"_bs\" for col in bs_names]] = (\n",
    "    df[bs_names]\n",
    "    .div(df[\"total_assets_bs\"], axis=\"index\")\n",
    "    .replace((np.inf, -np.inf, np.nan), (0, 0, 0))\n",
    ")"
   ]
  },
  {
   "cell_type": "code",
   "execution_count": 336,
   "metadata": {},
   "outputs": [],
   "source": [
    "# get Nan values where total_assets_bs is NaN\n",
    "for col in bs_names:\n",
    "    df[col + \"_bs\"] = np.where(\n",
    "        df[\"total_assets_bs\"].isna(), np.nan, df[col + \"_bs\"]\n",
    "    )"
   ]
  },
  {
   "cell_type": "markdown",
   "metadata": {},
   "source": [
    "This code block is designed to create flags for identifying outliers and errors in certain accounting variables and to apply winsorization to those variables. Winsorization is a statistical technique used to limit extreme values in the data to reduce the effect of possibly spurious outliers. Specifically, it involves replacing values beyond a certain threshold with values closer to the median or a specified percentile. Here's a detailed explanation of each part of the code:"
   ]
  },
  {
   "cell_type": "code",
   "execution_count": 337,
   "metadata": {},
   "outputs": [],
   "source": [
    "# Variables that represent accounting items that cannot be negative (e.g. materials)\n",
    "zero = [\n",
    "    \"extra_exp_pl\",\n",
    "    \"extra_inc_pl\",\n",
    "    \"inventories_pl\",\n",
    "    \"material_exp_pl\",\n",
    "    \"personnel_exp_pl\",\n",
    "    \"curr_liab_bs\",\n",
    "    \"fixed_assets_bs\",\n",
    "    \"liq_assets_bs\",\n",
    "    \"curr_assets_bs\",\n",
    "    \"subscribed_cap_bs\",\n",
    "    \"intang_assets_bs\",\n",
    "]\n",
    "\n",
    "# Create flags for high values: 1 if > 1, NaN stays NaN\n",
    "df[[col + \"_flag_high\" for col in zero]] = np.where(\n",
    "    df[zero].isna(), np.nan, (df[zero] > 1).astype(int)\n",
    ")\n",
    "\n",
    "# Winsorize high values: cap at 1, preserving NaN\n",
    "df[[col for col in zero]] = np.where(\n",
    "    df[zero].isna(), np.nan, np.where(df[zero] > 1, 1, df[zero])\n",
    ")\n",
    "\n",
    "# Create flags for error values: 1 if < 0, NaN stays NaN\n",
    "df[[col + \"_flag_error\" for col in zero]] = np.where(\n",
    "    df[zero].isna(), np.nan, (df[zero] < 0).astype(int)\n",
    ")\n",
    "\n",
    "# Correct error values: set < 0 to 0, preserving NaN\n",
    "df[[col for col in zero]] = np.where(\n",
    "    df[zero].isna(), np.nan, np.where(df[zero] < 0, 0, df[zero])\n",
    ")\n"
   ]
  },
  {
   "cell_type": "code",
   "execution_count": 338,
   "metadata": {},
   "outputs": [],
   "source": [
    "# for vars that could be any, but are mostly between -1 and 1\n",
    "anyof = [\"extra_profit_loss_pl\", \"inc_bef_tax_pl\", \"profit_loss_year_pl\", \"share_eq_bs\"]\n",
    "\n",
    "df[[col + \"_flag_low\" for col in anyof]] = np.where(\n",
    "    df[anyof].isna(), np.nan, (df[anyof] < -1).astype(int)\n",
    ")\n",
    "df[[col for col in anyof]] = np.where(\n",
    "    df[anyof].isna(), np.nan, np.where((df[anyof] < -1), -1, df[anyof])\n",
    ")\n",
    "df[[col + \"_flag_high\" for col in anyof]] = np.where(\n",
    "    df[anyof].isna(), np.nan, (df[anyof] > 1).astype(int)\n",
    ")\n",
    "df[[col for col in anyof]] = np.where(\n",
    "    df[anyof].isna(), np.nan, np.where((df[anyof] > 1), 1, df[anyof])\n",
    ")\n",
    "df[[col + \"_flag_zero\" for col in anyof]] = np.where(\n",
    "    df[anyof].isna(), np.nan, (df[anyof] == 0).astype(int)\n",
    ")\n",
    "df[[col + \"_quad\" for col in anyof]] = np.where(\n",
    "    df[anyof].isna(), np.nan, df[anyof] ** 2\n",
    ")"
   ]
  },
  {
   "cell_type": "code",
   "execution_count": 339,
   "metadata": {},
   "outputs": [
    {
     "data": {
      "text/plain": [
       "(510532, 104)"
      ]
     },
     "execution_count": 339,
     "metadata": {},
     "output_type": "execute_result"
    }
   ],
   "source": [
    "df.shape"
   ]
  },
  {
   "cell_type": "markdown",
   "metadata": {},
   "source": [
    "Dropping additional columns"
   ]
  },
  {
   "cell_type": "code",
   "execution_count": 340,
   "metadata": {},
   "outputs": [],
   "source": [
    "# dropping flags with no variation\n",
    "flag_columns = [col for col in df.columns if \"flag\" in col]\n",
    "df = df.drop(\n",
    "    df[flag_columns].std()[(df[flag_columns].std() == 0)].index, axis=1\n",
    ")"
   ]
  },
  {
   "cell_type": "code",
   "execution_count": 341,
   "metadata": {},
   "outputs": [
    {
     "data": {
      "text/plain": [
       "(510532, 98)"
      ]
     },
     "execution_count": 341,
     "metadata": {},
     "output_type": "execute_result"
    }
   ],
   "source": [
    "df.shape"
   ]
  },
  {
   "cell_type": "markdown",
   "metadata": {},
   "source": [
    "Adding variables on CEO age"
   ]
  },
  {
   "cell_type": "code",
   "execution_count": 342,
   "metadata": {},
   "outputs": [],
   "source": [
    "# Calculate CEO age by subtracting the birth year from the current year\n",
    "df[\"ceo_age\"] = df[\"year\"] - df[\"birth_year\"]\n",
    "\n",
    "# Assign flags for unusually low (<25) and high (>75) CEO ages, and missing CEO age\n",
    "df = df.assign(\n",
    "    flag_low_ceo_age=(df[\"ceo_age\"] < 25).astype(int),  # Flag for CEO age under 25\n",
    "    flag_high_ceo_age=(df[\"ceo_age\"] > 75).astype(int),  # Flag for CEO age over 75\n",
    "    flag_miss_ceo_age=(df[\"ceo_age\"].isna()).astype(int),  # Flag for missing CEO age\n",
    ")\n",
    "\n",
    "# Winsorize CEO age to limit it within the 25 to 75 range\n",
    "df[\"ceo_age\"] = np.where(df[\"ceo_age\"] < 25, 25, df[\"ceo_age\"])  # Set minimum CEO age to 25\n",
    "df[\"ceo_age\"] = np.where(df[\"ceo_age\"] > 75, 75, df[\"ceo_age\"])  # Set maximum CEO age to 75\n",
    "\n",
    "# Impute missing CEO age values with the mean CEO age\n",
    "df[\"ceo_age\"] = np.where(df[\"ceo_age\"].isna(), df[\"ceo_age\"].mean(), df[\"ceo_age\"])\n",
    "\n",
    "# Create a binary indicator for 'young' CEOs (under 40)\n",
    "df[\"ceo_young\"] = (df[\"ceo_age\"] < 40).astype(int)  # Flag for CEO age under 40\n"
   ]
  },
  {
   "cell_type": "code",
   "execution_count": 343,
   "metadata": {},
   "outputs": [],
   "source": [
    "# Create a flag for values of 'd1_sales_mil_log' less than -1.5, indicating significantly low changes\n",
    "df[\"flag_low_d1_sales_mil_log\"] = np.where(df[\"d1_sales_mil_log\"] < -1.5, 1, 0)\n",
    "\n",
    "# Create a flag for values of 'd1_sales_mil_log' greater than 1.5, indicating significantly high changes\n",
    "df[\"flag_high_d1_sales_mil_log\"] = np.where(df[\"d1_sales_mil_log\"] > 1.5, 1, 0)\n",
    "\n",
    "# Modify 'd1_sales_mil_log' values to be within the range of -1.5 to 1.5, effectively winsorizing the variable\n",
    "df[\"d1_sales_mil_log_mod\"] = np.where(\n",
    "    df[\"d1_sales_mil_log\"] < -1.5,\n",
    "    -1.5,\n",
    "    np.where(df[\"d1_sales_mil_log\"] > 1.5, 1.5, df[\"d1_sales_mil_log\"]),\n",
    ")\n",
    "\n",
    "# Square the modified 'd1_sales_mil_log' values, potentially to capture non-linear effects in a model\n",
    "df[\"d1_sales_mil_log_mod_sq\"] = df[\"d1_sales_mil_log_mod\"] ** 2\n"
   ]
  },
  {
   "cell_type": "markdown",
   "metadata": {},
   "source": [
    "Imputation of values"
   ]
  },
  {
   "cell_type": "code",
   "execution_count": 344,
   "metadata": {},
   "outputs": [],
   "source": [
    "# Impute missing values in 'labor_avg' with its mean and create a flag for missing 'labor_avg' values\n",
    "df[\"labor_avg_mod\"] = np.where(df[\"labor_avg\"].isna(), df[\"labor_avg\"].mean(), df[\"labor_avg\"])\n",
    "df[\"flag_miss_labor_avg\"] = (df[\"labor_avg\"].isna()).astype(int)\n",
    "# impute missing values in birth_year with its mean and create a flag for missing birth_year values\n",
    "df[\"birth_year_mod\"] = np.where(df[\"birth_year\"].isna(), df[\"birth_year\"].mean(), df[\"birth_year\"])\n",
    "df[\"flag_miss_birth_year\"] = (df[\"birth_year\"].isna()).astype(int)\n",
    "# drop labor_avg, birth_year because we have labor_avg_mod and birth_year_mod\n",
    "df = df.drop([\"labor_avg\", \"birth_year\"], axis=1)"
   ]
  },
  {
   "cell_type": "code",
   "execution_count": 345,
   "metadata": {},
   "outputs": [
    {
     "name": "stdout",
     "output_type": "stream",
     "text": [
      "year                                int64\n",
      "comp_id                           float64\n",
      "begin                              object\n",
      "end                                object\n",
      "amort                             float64\n",
      "curr_assets                       float64\n",
      "curr_liab                         float64\n",
      "extra_exp                         float64\n",
      "extra_inc                         float64\n",
      "extra_profit_loss                 float64\n",
      "fixed_assets                      float64\n",
      "inc_bef_tax                       float64\n",
      "intang_assets                     float64\n",
      "inventories                       float64\n",
      "liq_assets                        float64\n",
      "material_exp                      float64\n",
      "personnel_exp                     float64\n",
      "profit_loss_year                  float64\n",
      "sales                             float64\n",
      "share_eq                          float64\n",
      "subscribed_cap                    float64\n",
      "tang_assets                       float64\n",
      "balsheet_flag                     float64\n",
      "balsheet_length                   float64\n",
      "balsheet_notfullyear              float64\n",
      "founded_year                      float64\n",
      "ceo_count                         float64\n",
      "foreign                           float64\n",
      "female                            float64\n",
      "inoffice_days                     float64\n",
      "gender                             object\n",
      "origin                             object\n",
      "nace_main                         float64\n",
      "ind2                              float64\n",
      "ind                               float64\n",
      "urban_m                           float64\n",
      "region_m                           object\n",
      "founded_date                       object\n",
      "status_alive                        int32\n",
      "default                             int32\n",
      "flag_asset_problem                float64\n",
      "total_assets_bs                   float64\n",
      "ln_sales                          float64\n",
      "sales_mil                         float64\n",
      "sales_mil_log                     float64\n",
      "d1_sales_mil_log                  float64\n",
      "age                               float64\n",
      "new                               float64\n",
      "extra_exp_pl                      float64\n",
      "extra_inc_pl                      float64\n",
      "extra_profit_loss_pl              float64\n",
      "inc_bef_tax_pl                    float64\n",
      "inventories_pl                    float64\n",
      "material_exp_pl                   float64\n",
      "profit_loss_year_pl               float64\n",
      "personnel_exp_pl                  float64\n",
      "intang_assets_bs                  float64\n",
      "curr_liab_bs                      float64\n",
      "fixed_assets_bs                   float64\n",
      "liq_assets_bs                     float64\n",
      "curr_assets_bs                    float64\n",
      "share_eq_bs                       float64\n",
      "subscribed_cap_bs                 float64\n",
      "tang_assets_bs                    float64\n",
      "extra_exp_pl_flag_high            float64\n",
      "extra_inc_pl_flag_high            float64\n",
      "inventories_pl_flag_high          float64\n",
      "material_exp_pl_flag_high         float64\n",
      "personnel_exp_pl_flag_high        float64\n",
      "curr_liab_bs_flag_high            float64\n",
      "liq_assets_bs_flag_high           float64\n",
      "subscribed_cap_bs_flag_high       float64\n",
      "extra_exp_pl_flag_error           float64\n",
      "extra_inc_pl_flag_error           float64\n",
      "inventories_pl_flag_error         float64\n",
      "material_exp_pl_flag_error        float64\n",
      "personnel_exp_pl_flag_error       float64\n",
      "curr_liab_bs_flag_error           float64\n",
      "liq_assets_bs_flag_error          float64\n",
      "subscribed_cap_bs_flag_error      float64\n",
      "extra_profit_loss_pl_flag_low     float64\n",
      "inc_bef_tax_pl_flag_low           float64\n",
      "profit_loss_year_pl_flag_low      float64\n",
      "share_eq_bs_flag_low              float64\n",
      "extra_profit_loss_pl_flag_high    float64\n",
      "inc_bef_tax_pl_flag_high          float64\n",
      "profit_loss_year_pl_flag_high     float64\n",
      "share_eq_bs_flag_high             float64\n",
      "extra_profit_loss_pl_flag_zero    float64\n",
      "inc_bef_tax_pl_flag_zero          float64\n",
      "profit_loss_year_pl_flag_zero     float64\n",
      "share_eq_bs_flag_zero             float64\n",
      "extra_profit_loss_pl_quad         float64\n",
      "inc_bef_tax_pl_quad               float64\n",
      "profit_loss_year_pl_quad          float64\n",
      "share_eq_bs_quad                  float64\n",
      "ceo_age                           float64\n",
      "flag_low_ceo_age                    int32\n",
      "flag_high_ceo_age                   int32\n",
      "flag_miss_ceo_age                   int32\n",
      "ceo_young                           int32\n",
      "flag_low_d1_sales_mil_log           int32\n",
      "flag_high_d1_sales_mil_log          int32\n",
      "d1_sales_mil_log_mod              float64\n",
      "d1_sales_mil_log_mod_sq           float64\n",
      "labor_avg_mod                     float64\n",
      "flag_miss_labor_avg                 int32\n",
      "birth_year_mod                    float64\n",
      "flag_miss_birth_year                int32\n",
      "dtype: object\n"
     ]
    }
   ],
   "source": [
    "# Display the data types of all columns in the DataFrame\n",
    "print(df.dtypes)\n"
   ]
  },
  {
   "cell_type": "markdown",
   "metadata": {},
   "source": [
    "We are going to change the datatypes of the following columns to categorical:\n",
    "- gender\n",
    "- origin\n",
    "- ind2\n",
    "- ind\n",
    "- urban_m\n",
    "- region_m\n",
    "- nace_main\n"
   ]
  },
  {
   "cell_type": "code",
   "execution_count": 346,
   "metadata": {},
   "outputs": [],
   "source": [
    "# Assign categorical type to selected columns\n",
    "\n",
    "categorical = [\"gender\", \"origin\", \"ind2\", \"ind\", \"urban_m\", \"region_m\", \"nace_main\"]\n",
    "\n",
    "df[categorical] = df[categorical].apply(lambda x: x.astype('category'))"
   ]
  },
  {
   "cell_type": "markdown",
   "metadata": {},
   "source": [
    "## Define Holdout data"
   ]
  },
  {
   "cell_type": "code",
   "execution_count": 347,
   "metadata": {},
   "outputs": [
    {
     "data": {
      "text/plain": [
       "default\n",
       "0    981\n",
       "1     56\n",
       "Name: count, dtype: int64"
      ]
     },
     "execution_count": 347,
     "metadata": {},
     "output_type": "execute_result"
    }
   ],
   "source": [
    "# define holdout set\n",
    "holdout = df[(df['year']==2014) & (df['ind2'] == 26) & (df['sales'] >= 1000) & (df['sales'] <= 10000000) & (df['status_alive'] == 1)]\n",
    "# check the number of default and non-default firms in the holdout set\n",
    "holdout.default.value_counts()"
   ]
  },
  {
   "cell_type": "code",
   "execution_count": 348,
   "metadata": {},
   "outputs": [
    {
     "data": {
      "text/plain": [
       "count    1037.000000\n",
       "mean        0.490202\n",
       "std         1.154087\n",
       "min         0.001070\n",
       "25%         0.021767\n",
       "50%         0.072700\n",
       "75%         0.333889\n",
       "max         9.576485\n",
       "Name: sales_mil, dtype: float64"
      ]
     },
     "execution_count": 348,
     "metadata": {},
     "output_type": "execute_result"
    }
   ],
   "source": [
    "holdout.sales_mil.describe()"
   ]
  },
  {
   "cell_type": "markdown",
   "metadata": {},
   "source": [
    "Based on the `describe` method's output, it's clear that the dataset conforms to the specified criteria outlined in the assignment requirements. Specifically, the dataset focuses on firms within the 'Manufacture of computer, electronic, and optical products' industry, denoted by `ind2 == 26`, and targets small or medium enterprises (SMEs) with 2014 sales figures ranging from 1,000 EUR to 10 million EUR. This precise selection ensures we're examining firms that existed in 2014 with positive sales but did not exist in 2015, either due to having zero sales or missing sales data, thereby meeting the definition of default. The successful sample design has resulted in a dataset comprising 1037 firms, of which 56 defaulted and 981 remained active. The dataset further indicates an average sales figure of 0.4902 million EUR for these firms, with the minimum and maximum sales recorded at 0.00107 million EUR and 9.57648 million EUR, respectively, demonstrating adherence to the assignment's specified criteria."
   ]
  },
  {
   "cell_type": "markdown",
   "metadata": {},
   "source": [
    "## Choosing our training dataset"
   ]
  },
  {
   "cell_type": "code",
   "execution_count": 349,
   "metadata": {},
   "outputs": [
    {
     "data": {
      "text/plain": [
       "(20253, 109)"
      ]
     },
     "execution_count": 349,
     "metadata": {},
     "output_type": "execute_result"
    }
   ],
   "source": [
    "# define work set\n",
    "# we will use all data from 2014 except for the firms in the holdout set\n",
    "work = df[(df['year'] == 2014) & (df['ind2'] != 26) & (df['sales'] >= 1000) & (df['sales'] <= 10000000)]\n",
    "work.shape"
   ]
  },
  {
   "cell_type": "markdown",
   "metadata": {},
   "source": [
    "## Defininig Variables"
   ]
  },
  {
   "cell_type": "code",
   "execution_count": 350,
   "metadata": {},
   "outputs": [
    {
     "data": {
      "text/plain": [
       "(0.10250333283957933, 0.05400192864030858)"
      ]
     },
     "execution_count": 350,
     "metadata": {},
     "output_type": "execute_result"
    }
   ],
   "source": [
    "# calculate the default rate for work and holdout sets\n",
    "work.default.mean(), holdout.default.mean()"
   ]
  },
  {
   "cell_type": "code",
   "execution_count": 351,
   "metadata": {},
   "outputs": [
    {
     "data": {
      "text/plain": [
       "gender                            31\n",
       "origin                            31\n",
       "inoffice_days                     31\n",
       "female                            31\n",
       "foreign                           31\n",
       "ceo_count                         31\n",
       "founded_year                      31\n",
       "age                               31\n",
       "material_exp                       2\n",
       "personnel_exp_pl_flag_error        2\n",
       "material_exp_pl_flag_error         2\n",
       "personnel_exp                      2\n",
       "region_m                           2\n",
       "personnel_exp_pl                   2\n",
       "material_exp_pl                    2\n",
       "personnel_exp_pl_flag_high         2\n",
       "amort                              2\n",
       "material_exp_pl_flag_high          2\n",
       "extra_exp_pl_flag_error            0\n",
       "share_eq_bs_flag_low               0\n",
       "profit_loss_year_pl_flag_low       0\n",
       "extra_exp_pl_flag_high             0\n",
       "inc_bef_tax_pl_flag_low            0\n",
       "extra_inc_pl_flag_high             0\n",
       "inventories_pl_flag_high           0\n",
       "extra_profit_loss_pl_flag_low      0\n",
       "extra_inc_pl_flag_error            0\n",
       "subscribed_cap_bs_flag_error       0\n",
       "liq_assets_bs_flag_error           0\n",
       "curr_liab_bs_flag_error            0\n",
       "curr_liab_bs_flag_high             0\n",
       "extra_profit_loss_pl_flag_high     0\n",
       "liq_assets_bs_flag_high            0\n",
       "subscribed_cap_bs_flag_high        0\n",
       "inventories_pl_flag_error          0\n",
       "year                               0\n",
       "inc_bef_tax_pl_flag_high           0\n",
       "flag_low_ceo_age                   0\n",
       "birth_year_mod                     0\n",
       "flag_miss_labor_avg                0\n",
       "labor_avg_mod                      0\n",
       "d1_sales_mil_log_mod_sq            0\n",
       "d1_sales_mil_log_mod               0\n",
       "flag_high_d1_sales_mil_log         0\n",
       "flag_low_d1_sales_mil_log          0\n",
       "ceo_young                          0\n",
       "flag_miss_ceo_age                  0\n",
       "flag_high_ceo_age                  0\n",
       "ceo_age                            0\n",
       "profit_loss_year_pl_flag_high      0\n",
       "share_eq_bs_quad                   0\n",
       "profit_loss_year_pl_quad           0\n",
       "inc_bef_tax_pl_quad                0\n",
       "extra_profit_loss_pl_quad          0\n",
       "share_eq_bs_flag_zero              0\n",
       "profit_loss_year_pl_flag_zero      0\n",
       "inc_bef_tax_pl_flag_zero           0\n",
       "extra_profit_loss_pl_flag_zero     0\n",
       "subscribed_cap_bs                  0\n",
       "share_eq_bs_flag_high              0\n",
       "tang_assets_bs                     0\n",
       "profit_loss_year_pl                0\n",
       "share_eq_bs                        0\n",
       "inventories                        0\n",
       "balsheet_notfullyear               0\n",
       "balsheet_length                    0\n",
       "balsheet_flag                      0\n",
       "tang_assets                        0\n",
       "subscribed_cap                     0\n",
       "share_eq                           0\n",
       "sales                              0\n",
       "profit_loss_year                   0\n",
       "liq_assets                         0\n",
       "intang_assets                      0\n",
       "ind2                               0\n",
       "inc_bef_tax                        0\n",
       "fixed_assets                       0\n",
       "extra_profit_loss                  0\n",
       "extra_inc                          0\n",
       "extra_exp                          0\n",
       "curr_liab                          0\n",
       "curr_assets                        0\n",
       "end                                0\n",
       "begin                              0\n",
       "nace_main                          0\n",
       "ind                                0\n",
       "curr_assets_bs                     0\n",
       "extra_exp_pl                       0\n",
       "liq_assets_bs                      0\n",
       "fixed_assets_bs                    0\n",
       "curr_liab_bs                       0\n",
       "intang_assets_bs                   0\n",
       "comp_id                            0\n",
       "inventories_pl                     0\n",
       "inc_bef_tax_pl                     0\n",
       "extra_profit_loss_pl               0\n",
       "extra_inc_pl                       0\n",
       "new                                0\n",
       "urban_m                            0\n",
       "d1_sales_mil_log                   0\n",
       "sales_mil_log                      0\n",
       "sales_mil                          0\n",
       "ln_sales                           0\n",
       "total_assets_bs                    0\n",
       "flag_asset_problem                 0\n",
       "default                            0\n",
       "status_alive                       0\n",
       "founded_date                       0\n",
       "flag_miss_birth_year               0\n",
       "dtype: int64"
      ]
     },
     "execution_count": 351,
     "metadata": {},
     "output_type": "execute_result"
    }
   ],
   "source": [
    "# calculate missing values for holdout set\n",
    "holdout.isna().sum().sort_values(ascending=False)"
   ]
  },
  {
   "cell_type": "code",
   "execution_count": 352,
   "metadata": {},
   "outputs": [
    {
     "data": {
      "text/plain": [
       "age                               1056\n",
       "founded_year                      1056\n",
       "foreign                           1055\n",
       "female                            1055\n",
       "inoffice_days                     1055\n",
       "gender                            1055\n",
       "origin                            1055\n",
       "ceo_count                         1055\n",
       "ind                                637\n",
       "region_m                            58\n",
       "material_exp_pl                     29\n",
       "material_exp_pl_flag_high           29\n",
       "personnel_exp_pl                    29\n",
       "material_exp                        29\n",
       "personnel_exp                       29\n",
       "material_exp_pl_flag_error          29\n",
       "personnel_exp_pl_flag_error         29\n",
       "amort                               29\n",
       "personnel_exp_pl_flag_high          29\n",
       "inventories_pl                      12\n",
       "profit_loss_year_pl_flag_high       12\n",
       "intang_assets_bs                    12\n",
       "share_eq_bs_flag_high               12\n",
       "profit_loss_year_pl_flag_zero       12\n",
       "profit_loss_year_pl                 12\n",
       "curr_liab_bs                        12\n",
       "curr_liab_bs_flag_high              12\n",
       "liq_assets_bs_flag_error            12\n",
       "curr_liab_bs_flag_error             12\n",
       "inventories_pl_flag_error           12\n",
       "profit_loss_year_pl_flag_low        12\n",
       "subscribed_cap_bs_flag_high         12\n",
       "liq_assets_bs_flag_high             12\n",
       "inventories_pl_flag_high            12\n",
       "fixed_assets_bs                     12\n",
       "share_eq_bs_flag_low                12\n",
       "tang_assets_bs                      12\n",
       "subscribed_cap_bs                   12\n",
       "share_eq_bs                         12\n",
       "share_eq_bs_flag_zero               12\n",
       "liq_assets_bs                       12\n",
       "curr_assets_bs                      12\n",
       "flag_asset_problem                  12\n",
       "subscribed_cap                      12\n",
       "tang_assets                         12\n",
       "curr_assets                         12\n",
       "curr_liab                           12\n",
       "fixed_assets                        12\n",
       "intang_assets                       12\n",
       "inventories                         12\n",
       "liq_assets                          12\n",
       "profit_loss_year                    12\n",
       "share_eq                            12\n",
       "subscribed_cap_bs_flag_error        12\n",
       "profit_loss_year_pl_quad            12\n",
       "total_assets_bs                     12\n",
       "share_eq_bs_quad                    12\n",
       "nace_main                            5\n",
       "ind2                                 5\n",
       "founded_date                         1\n",
       "inc_bef_tax_pl_flag_high             0\n",
       "flag_high_d1_sales_mil_log           0\n",
       "birth_year_mod                       0\n",
       "flag_miss_labor_avg                  0\n",
       "labor_avg_mod                        0\n",
       "inc_bef_tax_pl_flag_low              0\n",
       "d1_sales_mil_log_mod_sq              0\n",
       "d1_sales_mil_log_mod                 0\n",
       "extra_profit_loss_pl_flag_low        0\n",
       "extra_profit_loss_pl_flag_zero       0\n",
       "inc_bef_tax_pl_flag_zero             0\n",
       "ceo_age                              0\n",
       "extra_profit_loss_pl_flag_high       0\n",
       "flag_low_d1_sales_mil_log            0\n",
       "extra_profit_loss_pl_quad            0\n",
       "flag_low_ceo_age                     0\n",
       "ceo_young                            0\n",
       "flag_miss_ceo_age                    0\n",
       "flag_high_ceo_age                    0\n",
       "inc_bef_tax_pl_quad                  0\n",
       "year                                 0\n",
       "extra_inc_pl_flag_error              0\n",
       "extra_exp_pl_flag_error              0\n",
       "begin                                0\n",
       "end                                  0\n",
       "extra_exp                            0\n",
       "extra_inc                            0\n",
       "extra_profit_loss                    0\n",
       "inc_bef_tax                          0\n",
       "sales                                0\n",
       "balsheet_flag                        0\n",
       "balsheet_length                      0\n",
       "balsheet_notfullyear                 0\n",
       "urban_m                              0\n",
       "status_alive                         0\n",
       "default                              0\n",
       "ln_sales                             0\n",
       "sales_mil                            0\n",
       "sales_mil_log                        0\n",
       "d1_sales_mil_log                     0\n",
       "new                                  0\n",
       "extra_exp_pl                         0\n",
       "extra_inc_pl                         0\n",
       "extra_profit_loss_pl                 0\n",
       "inc_bef_tax_pl                       0\n",
       "comp_id                              0\n",
       "extra_exp_pl_flag_high               0\n",
       "extra_inc_pl_flag_high               0\n",
       "flag_miss_birth_year                 0\n",
       "dtype: int64"
      ]
     },
     "execution_count": 352,
     "metadata": {},
     "output_type": "execute_result"
    }
   ],
   "source": [
    "# calculate missing values for work set\n",
    "work.isna().sum().sort_values(ascending=False)"
   ]
  },
  {
   "cell_type": "markdown",
   "metadata": {},
   "source": [
    "We are going to impute mode for categorical values and mean for numerical values for both work and holdout sets.\n",
    "Also, we are going to add flag columns for missing values"
   ]
  },
  {
   "cell_type": "code",
   "execution_count": 353,
   "metadata": {},
   "outputs": [],
   "source": [
    "# create flags for missing numerical and categorical values in both datasets\n",
    "for col in work.columns:\n",
    "    if work[col].dtype == 'float64' or work[col].dtype == 'int64':  # For numerical columns\n",
    "        work[col + '_flag_missing'] = work[col].isna().astype(int)\n",
    "        holdout[col + '_flag_missing'] = holdout[col].isna().astype(int)\n",
    "    elif work[col].dtype == 'object' or work[col].dtype.name == 'category':  # For categorical columns\n",
    "        work[col + '_flag_missing'] = work[col].isna().astype(int)\n",
    "        holdout[col + '_flag_missing'] = holdout[col].isna().astype(int)\n",
    "\n",
    "# Impute missing numerical values with the mean for both work and holdout sets\n",
    "numerical_cols = df.select_dtypes(include=['float64', 'int64']).columns\n",
    "work[numerical_cols] = work[numerical_cols].fillna(work[numerical_cols].mean())\n",
    "holdout[numerical_cols] = holdout[numerical_cols].fillna(holdout[numerical_cols].mean())\n",
    "\n",
    "# Impute missing categorical values with the mode for both work and holdout sets\n",
    "categorical_cols = df.select_dtypes(include=['object', 'category']).columns\n",
    "work[categorical_cols] = work[categorical_cols].fillna(work[categorical_cols].mode().iloc[0])\n",
    "holdout[categorical_cols] = holdout[categorical_cols].fillna(holdout[categorical_cols].mode().iloc[0])"
   ]
  },
  {
   "cell_type": "code",
   "execution_count": 354,
   "metadata": {},
   "outputs": [
    {
     "data": {
      "text/plain": [
       "(21290, 208)"
      ]
     },
     "execution_count": 354,
     "metadata": {},
     "output_type": "execute_result"
    }
   ],
   "source": [
    "# whole dataset \n",
    "dataset = pd.concat([work, holdout])\n",
    "dataset.shape"
   ]
  },
  {
   "cell_type": "code",
   "execution_count": 355,
   "metadata": {},
   "outputs": [],
   "source": [
    "# Define raw financial variables\n",
    "rawvars = [\"curr_assets\", \"curr_liab\", \"extra_exp\", \"extra_inc\", \"extra_profit_loss\", \"fixed_assets\",\n",
    "           \"inc_bef_tax\", \"intang_assets\", \"inventories\", \"liq_assets\", \"material_exp\", \"personnel_exp\",\n",
    "           \"profit_loss_year\", \"sales\", \"share_eq\", \"subscribed_cap\"]\n",
    "\n",
    "# Define variables for quality assessment of balance sheets\n",
    "qualityvars = [\"balsheet_flag\", \"balsheet_length\", \"balsheet_notfullyear\"]\n",
    "\n",
    "# Define engineered variables from balance sheet and profit & loss statement for deeper analysis\n",
    "engvar = [\"total_assets_bs\", \"fixed_assets_bs\", \"liq_assets_bs\", \"curr_assets_bs\",\n",
    "          \"share_eq_bs\", \"subscribed_cap_bs\", \"intang_assets_bs\", \"extra_exp_pl\",\n",
    "          \"extra_inc_pl\", \"extra_profit_loss_pl\", \"inc_bef_tax_pl\", \"inventories_pl\",\n",
    "          \"material_exp_pl\", \"profit_loss_year_pl\", \"personnel_exp_pl\"]\n",
    "\n",
    "# Define advanced engineered variables for more complex financial analysis\n",
    "engvar2 = [\"extra_profit_loss_pl_quad\", \"inc_bef_tax_pl_quad\",\n",
    "           \"profit_loss_year_pl_quad\", \"share_eq_bs_quad\"]\n",
    "\n",
    "# Collect all flag variables dynamically based on their name patterns\n",
    "flagvar = []\n",
    "for col in df.columns:\n",
    "    if col.endswith('flag_low') or col.endswith('flag_high') or col.endswith('flag_error') or col.endswith('flag_zero') or col.endswith('flag_missing'):\n",
    "        flagvar.append(col)\n",
    "\n",
    "# Define variables related to the first difference of log-transformed sales and their squared values along with flags for low and high values\n",
    "d1 = [\"d1_sales_mil_log_mod\", \"d1_sales_mil_log_mod_sq\",\n",
    "      \"flag_low_d1_sales_mil_log\", \"flag_high_d1_sales_mil_log\"]\n",
    "\n",
    "# Define human resource-related variables including demographics and company management indicators\n",
    "hr = [\"female\", \"ceo_age\", \"flag_high_ceo_age\", \"flag_low_ceo_age\",\n",
    "      \"flag_miss_ceo_age\", \"ceo_count\", \"labor_avg_mod\",\n",
    "      \"flag_miss_labor_avg\"]\n"
   ]
  },
  {
   "cell_type": "code",
   "execution_count": 356,
   "metadata": {},
   "outputs": [],
   "source": [
    "# we are dropping the first level of each categorical variable to have reference categories\n",
    "\n",
    "ind2_catmat = patsy.dmatrix(\"0 + C(ind2)\",dataset, return_type=\"dataframe\")\n",
    "ind2_catmat = ind2_catmat.drop(['C(ind2)[1.0]'], axis=1)\n",
    "\n",
    "ind_catmat = patsy.dmatrix(\"0 + C(ind)\",dataset, return_type=\"dataframe\")\n",
    "ind_catmat = ind_catmat.drop(['C(ind)[1.0]'], axis=1)\n",
    "\n",
    "m_region_locmat = patsy.dmatrix(\"0 + C(region_m)\",dataset, return_type=\"dataframe\")\n",
    "m_region_locmat = m_region_locmat.drop(['C(region_m)[Central]'], axis=1)\n",
    "\n",
    "urban_mmat = patsy.dmatrix(\"0 + C(urban_m)\",dataset, return_type=\"dataframe\")\n",
    "urban_mmat = urban_mmat.drop(['C(urban_m)[1.0]'], axis=1)\n",
    "\n",
    "gender_catmat = patsy.dmatrix(\"0 + C(gender)\",dataset, return_type=\"dataframe\")\n",
    "gender_catmat = gender_catmat.drop(['C(gender)[male]'], axis=1)\n",
    "\n",
    "origin_catmat = patsy.dmatrix(\"0 + C(origin)\",dataset, return_type=\"dataframe\")\n",
    "origin_catmat = origin_catmat.drop(['C(origin)[Domestic]'], axis=1)"
   ]
  },
  {
   "cell_type": "markdown",
   "metadata": {},
   "source": [
    "## Modeling"
   ]
  },
  {
   "cell_type": "markdown",
   "metadata": {},
   "source": [
    "We wiil build 4 logistic regression models.\n",
    "- Model 1: only using rawvars\n",
    "- Model 2: adding qualityvars and categorical variables\n",
    "- Model 3: adding engvar1 and engvar2\n",
    "- Model 4: adding d1, hr and flags\n",
    "We will apply 5 fold cross validation."
   ]
  },
  {
   "cell_type": "code",
   "execution_count": 357,
   "metadata": {},
   "outputs": [
    {
     "data": {
      "text/plain": [
       "Index(['year', 'comp_id', 'begin', 'end', 'amort', 'curr_assets', 'curr_liab',\n",
       "       'extra_exp', 'extra_inc', 'extra_profit_loss',\n",
       "       ...\n",
       "       'share_eq_bs_flag_zero_flag_missing',\n",
       "       'extra_profit_loss_pl_quad_flag_missing',\n",
       "       'inc_bef_tax_pl_quad_flag_missing',\n",
       "       'profit_loss_year_pl_quad_flag_missing',\n",
       "       'share_eq_bs_quad_flag_missing', 'ceo_age_flag_missing',\n",
       "       'd1_sales_mil_log_mod_flag_missing',\n",
       "       'd1_sales_mil_log_mod_sq_flag_missing', 'labor_avg_mod_flag_missing',\n",
       "       'birth_year_mod_flag_missing'],\n",
       "      dtype='object', length=208)"
      ]
     },
     "execution_count": 357,
     "metadata": {},
     "output_type": "execute_result"
    }
   ],
   "source": [
    "dataset.columns"
   ]
  },
  {
   "cell_type": "code",
   "execution_count": 358,
   "metadata": {},
   "outputs": [],
   "source": [
    "# model 1\n",
    "raw = dataset[rawvars]\n",
    "X1 = raw\n",
    "\n",
    "# model 2\n",
    "quality = dataset[qualityvars]\n",
    "X2 = pd.concat([X1, quality, ind2_catmat, ind_catmat, m_region_locmat, urban_mmat, gender_catmat, origin_catmat], axis = 1)\n",
    "\n",
    "# model 3\n",
    "eng = dataset[engvar]\n",
    "eng2 = dataset[engvar2]\n",
    "X3 = pd.concat([X2, eng, eng2], axis = 1)\n",
    "\n",
    "# model 4\n",
    "flags = dataset[flagvar]\n",
    "hrdata = dataset[hr]\n",
    "d1data = dataset[d1]\n",
    "X4 = pd.concat([X3, flags, hrdata, d1data], axis = 1)\n",
    "\n",
    "# define vars for RF\n",
    "rfvars = pd.concat([X3, flags, hrdata, d1data], axis = 1)\n",
    "\n",
    "# define y\n",
    "y = dataset['default']\n"
   ]
  },
  {
   "cell_type": "code",
   "execution_count": 368,
   "metadata": {},
   "outputs": [],
   "source": [
    "# Define training and holdout split indices based on work and holdout_data setup\n",
    "index_train = work.index \n",
    "index_holdout = holdout.index  \n",
    "\n",
    "# Use the indices to split the target variable 'y' into training and holdout sets\n",
    "y_train = y.loc[index_train]  \n",
    "y_holdout = y.loc[index_holdout] \n",
    "\n",
    "# cross-validation setup\n",
    "k = KFold(n_splits = 5, shuffle = True, random_state = 20240303)\n",
    "\n",
    "# no regularisation needed so setting the paremeter to very high value\n",
    "Cs_value_logit = [1e20]"
   ]
  },
  {
   "cell_type": "code",
   "execution_count": 369,
   "metadata": {},
   "outputs": [],
   "source": [
    "# Prepare variables for the logistic regression model by selecting training data from specific features\n",
    "logit_model_vars = [X1.loc[index_train], X2.loc[index_train], X3.loc[index_train], X4.loc[index_train]]\n",
    "\n",
    "# Initialize a dictionary to store logistic regression models for easy access and management\n",
    "logit_models = dict()\n",
    "\n",
    "# Initialize a dictionary to store Cross-Validation Root Mean Square Error (CV RMSE) values for each fold\n",
    "CV_RMSE_folds = dict()"
   ]
  },
  {
   "cell_type": "code",
   "execution_count": 370,
   "metadata": {},
   "outputs": [
    {
     "name": "stdout",
     "output_type": "stream",
     "text": [
      "CPU times: total: 1min 52s\n",
      "Wall time: 1min 4s\n"
     ]
    }
   ],
   "source": [
    "%%time\n",
    "for i in range(len(logit_model_vars)):\n",
    "    LRCV_brier = LogisticRegressionCV(\n",
    "        Cs=Cs_value_logit, \n",
    "        cv=k,\n",
    "        refit=True, \n",
    "        scoring='neg_brier_score', \n",
    "        solver=\"newton-cg\", \n",
    "        tol=1e-7, \n",
    "        random_state=20240303)\n",
    "    logit_models['X'+str(i+1)] = LRCV_brier.fit(logit_model_vars[i], y_train)\n",
    "    \n",
    "    # Calculate RMSE on test for each fold\n",
    "    CV_RMSE_folds['X'+str(i+1)] = np.sqrt(-1*(logit_models['X'+str(i+1)].scores_[1])).flatten()"
   ]
  },
  {
   "cell_type": "code",
   "execution_count": 377,
   "metadata": {},
   "outputs": [
    {
     "data": {
      "text/html": [
       "<div>\n",
       "<style scoped>\n",
       "    .dataframe tbody tr th:only-of-type {\n",
       "        vertical-align: middle;\n",
       "    }\n",
       "\n",
       "    .dataframe tbody tr th {\n",
       "        vertical-align: top;\n",
       "    }\n",
       "\n",
       "    .dataframe thead th {\n",
       "        text-align: right;\n",
       "    }\n",
       "</style>\n",
       "<table border=\"1\" class=\"dataframe\">\n",
       "  <thead>\n",
       "    <tr style=\"text-align: right;\">\n",
       "      <th></th>\n",
       "      <th>X1</th>\n",
       "      <th>X2</th>\n",
       "      <th>X3</th>\n",
       "      <th>X4</th>\n",
       "    </tr>\n",
       "  </thead>\n",
       "  <tbody>\n",
       "    <tr>\n",
       "      <th>0</th>\n",
       "      <td>0.292228</td>\n",
       "      <td>0.290873</td>\n",
       "      <td>0.287043</td>\n",
       "      <td>0.281215</td>\n",
       "    </tr>\n",
       "    <tr>\n",
       "      <th>1</th>\n",
       "      <td>0.296953</td>\n",
       "      <td>0.296145</td>\n",
       "      <td>0.290290</td>\n",
       "      <td>0.285687</td>\n",
       "    </tr>\n",
       "    <tr>\n",
       "      <th>2</th>\n",
       "      <td>0.302767</td>\n",
       "      <td>0.301821</td>\n",
       "      <td>0.298020</td>\n",
       "      <td>0.291982</td>\n",
       "    </tr>\n",
       "    <tr>\n",
       "      <th>3</th>\n",
       "      <td>0.297870</td>\n",
       "      <td>0.297314</td>\n",
       "      <td>0.292492</td>\n",
       "      <td>0.290998</td>\n",
       "    </tr>\n",
       "    <tr>\n",
       "      <th>4</th>\n",
       "      <td>0.309067</td>\n",
       "      <td>0.308152</td>\n",
       "      <td>0.303956</td>\n",
       "      <td>0.299604</td>\n",
       "    </tr>\n",
       "    <tr>\n",
       "      <th>Average</th>\n",
       "      <td>0.299777</td>\n",
       "      <td>0.298861</td>\n",
       "      <td>0.294360</td>\n",
       "      <td>0.289897</td>\n",
       "    </tr>\n",
       "  </tbody>\n",
       "</table>\n",
       "</div>"
      ],
      "text/plain": [
       "               X1        X2        X3        X4\n",
       "0        0.292228  0.290873  0.287043  0.281215\n",
       "1        0.296953  0.296145  0.290290  0.285687\n",
       "2        0.302767  0.301821  0.298020  0.291982\n",
       "3        0.297870  0.297314  0.292492  0.290998\n",
       "4        0.309067  0.308152  0.303956  0.299604\n",
       "Average  0.299777  0.298861  0.294360  0.289897"
      ]
     },
     "execution_count": 377,
     "metadata": {},
     "output_type": "execute_result"
    }
   ],
   "source": [
    "\n",
    "# Convert CV_RMSE_folds to a DataFrame\n",
    "df_cv_rmse = pd.DataFrame(CV_RMSE_folds)\n",
    "\n",
    "# Calculate the average of each column and append it as a new row\n",
    "df_cv_rmse.loc['Average'] = df_cv_rmse.mean()\n",
    "\n",
    "df_cv_rmse"
   ]
  },
  {
   "cell_type": "code",
   "execution_count": 374,
   "metadata": {},
   "outputs": [],
   "source": [
    "# check AUC scores\n",
    "\n",
    "CV_AUC_folds = dict()\n",
    "\n",
    "for i in range(len(logit_model_vars)):\n",
    "    LRCV_auc = LogisticRegressionCV(\n",
    "        Cs=Cs_value_logit, \n",
    "        cv=k, \n",
    "        refit=True, \n",
    "        scoring='roc_auc', \n",
    "        solver=\"newton-cg\", \n",
    "        tol=1e-7, \n",
    "        random_state = 20240303)\n",
    "    LRCV_auc_fit = LRCV_auc.fit(logit_model_vars[i], y_train)\n",
    "    # Calculate AUC on test for each fold\n",
    "    CV_AUC_folds['X'+str(i+1)] = LRCV_auc_fit.scores_[1][:,0].tolist()"
   ]
  },
  {
   "cell_type": "code",
   "execution_count": 378,
   "metadata": {},
   "outputs": [
    {
     "data": {
      "text/html": [
       "<div>\n",
       "<style scoped>\n",
       "    .dataframe tbody tr th:only-of-type {\n",
       "        vertical-align: middle;\n",
       "    }\n",
       "\n",
       "    .dataframe tbody tr th {\n",
       "        vertical-align: top;\n",
       "    }\n",
       "\n",
       "    .dataframe thead th {\n",
       "        text-align: right;\n",
       "    }\n",
       "</style>\n",
       "<table border=\"1\" class=\"dataframe\">\n",
       "  <thead>\n",
       "    <tr style=\"text-align: right;\">\n",
       "      <th></th>\n",
       "      <th>X1</th>\n",
       "      <th>X2</th>\n",
       "      <th>X3</th>\n",
       "      <th>X4</th>\n",
       "    </tr>\n",
       "  </thead>\n",
       "  <tbody>\n",
       "    <tr>\n",
       "      <th>0</th>\n",
       "      <td>0.760618</td>\n",
       "      <td>0.705920</td>\n",
       "      <td>0.760104</td>\n",
       "      <td>0.785092</td>\n",
       "    </tr>\n",
       "    <tr>\n",
       "      <th>1</th>\n",
       "      <td>0.717943</td>\n",
       "      <td>0.717291</td>\n",
       "      <td>0.729746</td>\n",
       "      <td>0.763348</td>\n",
       "    </tr>\n",
       "    <tr>\n",
       "      <th>2</th>\n",
       "      <td>0.730290</td>\n",
       "      <td>0.705731</td>\n",
       "      <td>0.738296</td>\n",
       "      <td>0.765110</td>\n",
       "    </tr>\n",
       "    <tr>\n",
       "      <th>3</th>\n",
       "      <td>0.735635</td>\n",
       "      <td>0.713524</td>\n",
       "      <td>0.748583</td>\n",
       "      <td>0.768290</td>\n",
       "    </tr>\n",
       "    <tr>\n",
       "      <th>4</th>\n",
       "      <td>0.712669</td>\n",
       "      <td>0.706188</td>\n",
       "      <td>0.730172</td>\n",
       "      <td>0.756346</td>\n",
       "    </tr>\n",
       "    <tr>\n",
       "      <th>Average</th>\n",
       "      <td>0.731431</td>\n",
       "      <td>0.709731</td>\n",
       "      <td>0.741380</td>\n",
       "      <td>0.767637</td>\n",
       "    </tr>\n",
       "  </tbody>\n",
       "</table>\n",
       "</div>"
      ],
      "text/plain": [
       "               X1        X2        X3        X4\n",
       "0        0.760618  0.705920  0.760104  0.785092\n",
       "1        0.717943  0.717291  0.729746  0.763348\n",
       "2        0.730290  0.705731  0.738296  0.765110\n",
       "3        0.735635  0.713524  0.748583  0.768290\n",
       "4        0.712669  0.706188  0.730172  0.756346\n",
       "Average  0.731431  0.709731  0.741380  0.767637"
      ]
     },
     "execution_count": 378,
     "metadata": {},
     "output_type": "execute_result"
    }
   ],
   "source": [
    "# Convert AUC to a DataFrame\n",
    "df_cv_auc = pd.DataFrame(CV_AUC_folds)\n",
    "\n",
    "# Calculate the average of each column and append it as a new row\n",
    "df_cv_auc.loc['Average'] = df_cv_auc.mean()\n",
    "\n",
    "df_cv_auc"
   ]
  },
  {
   "cell_type": "code",
   "execution_count": 382,
   "metadata": {},
   "outputs": [
    {
     "data": {
      "text/html": [
       "<div>\n",
       "<style scoped>\n",
       "    .dataframe tbody tr th:only-of-type {\n",
       "        vertical-align: middle;\n",
       "    }\n",
       "\n",
       "    .dataframe tbody tr th {\n",
       "        vertical-align: top;\n",
       "    }\n",
       "\n",
       "    .dataframe thead th {\n",
       "        text-align: right;\n",
       "    }\n",
       "</style>\n",
       "<table border=\"1\" class=\"dataframe\">\n",
       "  <thead>\n",
       "    <tr style=\"text-align: right;\">\n",
       "      <th></th>\n",
       "      <th>CV RMSE</th>\n",
       "      <th>CV AUC</th>\n",
       "    </tr>\n",
       "  </thead>\n",
       "  <tbody>\n",
       "    <tr>\n",
       "      <th>X1</th>\n",
       "      <td>0.299777</td>\n",
       "      <td>0.731431</td>\n",
       "    </tr>\n",
       "    <tr>\n",
       "      <th>X2</th>\n",
       "      <td>0.298861</td>\n",
       "      <td>0.709731</td>\n",
       "    </tr>\n",
       "    <tr>\n",
       "      <th>X3</th>\n",
       "      <td>0.294360</td>\n",
       "      <td>0.741380</td>\n",
       "    </tr>\n",
       "    <tr>\n",
       "      <th>X4</th>\n",
       "      <td>0.289897</td>\n",
       "      <td>0.767637</td>\n",
       "    </tr>\n",
       "  </tbody>\n",
       "</table>\n",
       "</div>"
      ],
      "text/plain": [
       "     CV RMSE    CV AUC\n",
       "X1  0.299777  0.731431\n",
       "X2  0.298861  0.709731\n",
       "X3  0.294360  0.741380\n",
       "X4  0.289897  0.767637"
      ]
     },
     "execution_count": 382,
     "metadata": {},
     "output_type": "execute_result"
    }
   ],
   "source": [
    "# Extract the 'Average' row from each DataFrame\n",
    "avg_rmse = df_cv_rmse.loc['Average'].values\n",
    "avg_auc = df_cv_auc.loc['Average'].values\n",
    "\n",
    "# show the results\n",
    "pd.DataFrame({\n",
    "    'CV RMSE': avg_rmse,\n",
    "    'CV AUC': avg_auc\n",
    "}, index=df_cv_rmse.columns)\n"
   ]
  },
  {
   "cell_type": "markdown",
   "metadata": {},
   "source": [
    "The results presented indicate the performance of four logistic regression models, each progressively incorporating more variables from different categories, evaluated using 5-fold cross-validation. Model 1 (X1), which uses only basic financial variables (rawvars), achieved an average Cross-Validation Root Mean Square Error (CV RMSE) of 0.299777 and a Cross-Validation Area Under the Curve (CV AUC) of 0.731431, serving as a baseline for comparison.\n",
    "\n",
    "As additional variables are introduced in subsequent models—quality and categorical variables in Model 2 (X2), engineered variables in Model 3 (X3), and a combination of first differences, human resources-related variables, and flags in Model 4 (X4)—there is a noticeable improvement in both CV RMSE and CV AUC. Notably, Model 4 shows the most significant enhancement, achieving the lowest RMSE (0.289897) and the highest AUC (0.767637), indicating its superior predictive accuracy and ability to distinguish between classes compared to the simpler models. This suggests that incorporating a broader range of variables and capturing more complexity in the data can lead to better model performance."
   ]
  },
  {
   "cell_type": "markdown",
   "metadata": {},
   "source": [
    "### Trying the model on holdout set"
   ]
  },
  {
   "cell_type": "code",
   "execution_count": 383,
   "metadata": {},
   "outputs": [
    {
     "data": {
      "text/plain": [
       "0.214"
      ]
     },
     "execution_count": 383,
     "metadata": {},
     "output_type": "execute_result"
    }
   ],
   "source": [
    "# Select the best logistic regression model previously identified as 'X4'\n",
    "best_model = logit_models['X4']\n",
    "\n",
    "# Prepare the features from the holdout set that correspond to the best model's requirements\n",
    "best_model_X_holdout = X4.loc[index_holdout]\n",
    "\n",
    "# Predict the probabilities of the positive class for the holdout set using the best model\n",
    "logit_predicted_probabilities_holdout = best_model.predict_proba(best_model_X_holdout)[:,1]\n",
    "\n",
    "# Calculate the Root Mean Square Error (RMSE) between the predicted probabilities and the actual target values in the holdout set\n",
    "best_rmse_holdout = np.sqrt(metrics.mean_squared_error(y_holdout, logit_predicted_probabilities_holdout))\n",
    "\n",
    "# Round the RMSE to three decimal places for reporting\n",
    "rounded_rmse_holdout = round(best_rmse_holdout, 3)\n",
    "print('RMSE of holdout logistic model is: ',rounded_rmse_holdout)"
   ]
  },
  {
   "cell_type": "markdown",
   "metadata": {},
   "source": [
    "Comparing this RMSE (0.214) on the holdout set with the Cross-Validation RMSE values obtained during model selection, we observe that the holdout RMSE is significantly lower than any of the CV RMSEs recorded for the models (X1 through X4). This improvement suggests that the model 'X4' not only performed well during cross-validation (with the lowest CV RMSE of 0.289897 and highest CV AUC of 0.767637) but also generalized effectively to unseen data, as evidenced by its performance on the holdout set. The results affirm the model's robustness and its potential for reliable predictions in practical applications."
   ]
  },
  {
   "cell_type": "code",
   "execution_count": 444,
   "metadata": {},
   "outputs": [
    {
     "name": "stdout",
     "output_type": "stream",
     "text": [
      "AUC of holdout logistic model is:  0.813\n"
     ]
    }
   ],
   "source": [
    "auc_holdout = roc_auc_score(y_holdout, logit_predicted_probabilities_holdout)\n",
    "rounded_auc_holdout = round(auc_holdout, 3)\n",
    "print('AUC of holdout logistic model is: ',rounded_auc_holdout)"
   ]
  },
  {
   "cell_type": "code",
   "execution_count": 384,
   "metadata": {},
   "outputs": [
    {
     "data": {
      "text/plain": [
       "array([0.04910006, 0.03530182, 0.22107619, ..., 0.03220405, 0.04191897,\n",
       "       0.05693688])"
      ]
     },
     "execution_count": 384,
     "metadata": {},
     "output_type": "execute_result"
    }
   ],
   "source": [
    "logit_predicted_probabilities_holdout"
   ]
  },
  {
   "cell_type": "markdown",
   "metadata": {},
   "source": [
    "The logit_predicted_probabilities_holdout array contains the predicted probabilities that the logistic regression model (best_model) has assigned to each observation in the holdout set for being in the positive class (often labeled as '1'). Specifically, for binary classification tasks, logistic regression models output two probabilities for each observation: one for the probability of the observation being in the negative class (often '0'), and one for the positive class ('1'). In our case it's exiting"
   ]
  },
  {
   "cell_type": "markdown",
   "metadata": {},
   "source": [
    "### Discrete ROC (with thresholds in steps) on holdout"
   ]
  },
  {
   "cell_type": "code",
   "execution_count": 402,
   "metadata": {},
   "outputs": [],
   "source": [
    "# Define a range of thresholds from 0.01 to 0.79, stepping by 0.01\n",
    "thresholds = [i/100 for i in range(1, 80, 1)]\n",
    "\n",
    "# Initialize a dictionary to store confusion matrices for each threshold\n",
    "cm = dict()\n",
    "\n",
    "# Lists to hold true positive rates and false positive rates\n",
    "true_positive_rates = []\n",
    "false_positive_rates = []\n",
    "\n",
    "# List to store predictions based on the current threshold\n",
    "holdout_prediction = []\n",
    "\n",
    "# Iterate over each threshold value\n",
    "for thr in thresholds:\n",
    "    # Apply the threshold: predictions below it are 0, above are 1\n",
    "    holdout_prediction = np.where(logit_predicted_probabilities_holdout < thr, 0, 1)\n",
    "    \n",
    "    # Compute the confusion matrix for the current threshold\n",
    "    cm_thr = confusion_matrix(y_holdout, holdout_prediction, labels=[0, 1])\n",
    "    # Store the confusion matrix in the dictionary\n",
    "    cm[thr] = cm_thr\n",
    "    \n",
    "    # Unpack the confusion matrix to calculate rates\n",
    "    tn, fp, fn, tp = cm_thr.ravel()\n",
    "    \n",
    "    # Calculate and store the true positive rate (sensitivity)\n",
    "    true_positive_rates.append(tp / (tp + fn))\n",
    "    \n",
    "    # Calculate and store the false positive rate (1 - specificity)\n",
    "    false_positive_rates.append(fp / (fp + tn))\n"
   ]
  },
  {
   "cell_type": "code",
   "execution_count": 403,
   "metadata": {},
   "outputs": [
    {
     "data": {
      "text/plain": [
       "array([[981,   0],\n",
       "       [ 56,   0]], dtype=int64)"
      ]
     },
     "execution_count": 403,
     "metadata": {},
     "output_type": "execute_result"
    }
   ],
   "source": [
    "cm_thr"
   ]
  },
  {
   "cell_type": "code",
   "execution_count": 404,
   "metadata": {},
   "outputs": [
    {
     "data": {
      "image/png": "[encoded data removed]",
      "text/plain": [
       "<Figure size 640x480 with 1 Axes>"
      ]
     },
     "metadata": {
      "image/png": {
       "height": 480,
       "width": 640
      }
     },
     "output_type": "display_data"
    },
    {
     "data": {
      "text/plain": [
       "<Figure Size: (640 x 480)>"
      ]
     },
     "execution_count": 404,
     "metadata": {},
     "output_type": "execute_result"
    }
   ],
   "source": [
    "create_roc_plot(y_holdout, logit_predicted_probabilities_holdout)"
   ]
  },
  {
   "cell_type": "markdown",
   "metadata": {},
   "source": [
    "The ROC curve shows that the model is quite good, because it is well above 45 degree line. From confusion matrix we can see that the threshold is not the optimal one. Becaue all firms are classified as not default"
   ]
  },
  {
   "cell_type": "markdown",
   "metadata": {},
   "source": [
    "## Finding optimal threshold"
   ]
  },
  {
   "cell_type": "code",
   "execution_count": 406,
   "metadata": {},
   "outputs": [
    {
     "data": {
      "text/plain": [
       "0.10250333283957933"
      ]
     },
     "execution_count": 406,
     "metadata": {},
     "output_type": "execute_result"
    }
   ],
   "source": [
    "# Set the cost values for False Positives (FP) and False Negatives (FN)\n",
    "FP = 3\n",
    "FN = 15\n",
    "\n",
    "# Calculate the cost ratio of FN to FP\n",
    "cost = FN/FP  # This ratio is used to weigh the importance of FN relative to FP in cost-sensitive models\n",
    "\n",
    "# Prevalence is the proportion of positive cases (y_train.sum()) to the total number of cases (len(y_train))\n",
    "prevelance = y_train.sum()/len(y_train)\n",
    "prevelance"
   ]
  },
  {
   "cell_type": "code",
   "execution_count": 407,
   "metadata": {},
   "outputs": [],
   "source": [
    "best_thresholds_cv = dict()\n",
    "expected_loss_cv = dict()\n",
    "fold5_threshold = dict()\n",
    "fold5_expected_loss = dict()\n",
    "fold5_all_coords = dict()\n",
    "\n",
    "for i, model_name in enumerate(logit_models):\n",
    "    best_thresholds = []\n",
    "    expected_loss =[]\n",
    "    if model_name != 'LASSO':\n",
    "        X = logit_model_vars[i]\n",
    "        c_index = 0\n",
    "    else:\n",
    "        X = normalized_logitvars\n",
    "        c_index = best_lambda_i\n",
    "    fold = 0\n",
    "    for train_index, test_index in k.split(X):\n",
    "        X_fold = X.iloc[test_index,:]\n",
    "        y_fold = y_train.iloc[test_index]\n",
    "        pred_fold = generate_fold_prediction(logit_models[model_name], X_fold, fold, c_index)\n",
    "        false_pos_rate, true_pos_rate, thresholds = roc_curve(y_fold, pred_fold, drop_intermediate=False)\n",
    "        optimal_threshold = sorted(list(zip(\n",
    "            np.abs(true_pos_rate + (1 - prevelance)/(cost * prevelance)*(1-false_pos_rate)),\\\n",
    "                                       thresholds)), key=lambda i: i[0], reverse=True)[0][1]\n",
    "        best_thresholds.append(optimal_threshold)\n",
    "        threshold_prediction = np.where(pred_fold < optimal_threshold, 0, 1)\n",
    "        tn, fp, fn, tp = confusion_matrix(y_fold, threshold_prediction, labels=[0,1]).ravel()\n",
    "        curr_exp_loss = (fp*FP + fn*FN)/len(y_fold)\n",
    "        expected_loss.append(curr_exp_loss)\n",
    "        fold = fold+1\n",
    "\n",
    "    best_thresholds_cv[model_name] = np.mean(best_thresholds)\n",
    "    expected_loss_cv[model_name] = np.mean(expected_loss)\n",
    "\n",
    "    # for fold #5\n",
    "    fold5_threshold[model_name] = optimal_threshold\n",
    "    fold5_expected_loss[model_name] = curr_exp_loss\n",
    "\n",
    "    all_coords = pd.DataFrame({\n",
    "        'false_pos': false_pos_rate*sum(y_fold == 0),\n",
    "        'true_pos': true_pos_rate*sum(y_fold == 1),\n",
    "        'false_neg': sum(y_fold == 1) - true_pos_rate*sum(y_fold == 1),\n",
    "        'true_neg': sum(y_fold == 0) - false_pos_rate*sum(y_fold == 0),\n",
    "        'pos': sum(y_fold == 1),\n",
    "        'neg': sum(y_fold == 0),\n",
    "        'n': len(y_fold),\n",
    "        'thresholds': thresholds\n",
    "    })\n",
    "    \n",
    "    fold5_all_coords[model_name] = all_coords"
   ]
  },
  {
   "cell_type": "code",
   "execution_count": 408,
   "metadata": {},
   "outputs": [
    {
     "data": {
      "text/plain": [
       "1.147093666858663"
      ]
     },
     "execution_count": 408,
     "metadata": {},
     "output_type": "execute_result"
    }
   ],
   "source": [
    "sum(expected_loss)/len(expected_loss)"
   ]
  },
  {
   "cell_type": "code",
   "execution_count": 409,
   "metadata": {},
   "outputs": [
    {
     "data": {
      "text/html": [
       "<div>\n",
       "<style scoped>\n",
       "    .dataframe tbody tr th:only-of-type {\n",
       "        vertical-align: middle;\n",
       "    }\n",
       "\n",
       "    .dataframe tbody tr th {\n",
       "        vertical-align: top;\n",
       "    }\n",
       "\n",
       "    .dataframe thead th {\n",
       "        text-align: right;\n",
       "    }\n",
       "</style>\n",
       "<table border=\"1\" class=\"dataframe\">\n",
       "  <thead>\n",
       "    <tr style=\"text-align: right;\">\n",
       "      <th></th>\n",
       "      <th>Model</th>\n",
       "      <th>Avg of optimal thresholds</th>\n",
       "      <th>Threshold for Fold5</th>\n",
       "      <th>Avg expected loss</th>\n",
       "      <th>Expected loss for Fold5</th>\n",
       "    </tr>\n",
       "  </thead>\n",
       "  <tbody>\n",
       "    <tr>\n",
       "      <th>0</th>\n",
       "      <td>X1</td>\n",
       "      <td>0.155653</td>\n",
       "      <td>0.157603</td>\n",
       "      <td>1.236561</td>\n",
       "      <td>1.329630</td>\n",
       "    </tr>\n",
       "    <tr>\n",
       "      <th>1</th>\n",
       "      <td>X2</td>\n",
       "      <td>0.122835</td>\n",
       "      <td>0.120193</td>\n",
       "      <td>1.295067</td>\n",
       "      <td>1.351852</td>\n",
       "    </tr>\n",
       "    <tr>\n",
       "      <th>2</th>\n",
       "      <td>X3</td>\n",
       "      <td>0.147568</td>\n",
       "      <td>0.155680</td>\n",
       "      <td>1.222786</td>\n",
       "      <td>1.302963</td>\n",
       "    </tr>\n",
       "    <tr>\n",
       "      <th>3</th>\n",
       "      <td>X4</td>\n",
       "      <td>0.147531</td>\n",
       "      <td>0.167311</td>\n",
       "      <td>1.147094</td>\n",
       "      <td>1.233333</td>\n",
       "    </tr>\n",
       "  </tbody>\n",
       "</table>\n",
       "</div>"
      ],
      "text/plain": [
       "  Model  Avg of optimal thresholds  Threshold for Fold5  Avg expected loss  \\\n",
       "0    X1                   0.155653             0.157603           1.236561   \n",
       "1    X2                   0.122835             0.120193           1.295067   \n",
       "2    X3                   0.147568             0.155680           1.222786   \n",
       "3    X4                   0.147531             0.167311           1.147094   \n",
       "\n",
       "   Expected loss for Fold5  \n",
       "0                 1.329630  \n",
       "1                 1.351852  \n",
       "2                 1.302963  \n",
       "3                 1.233333  "
      ]
     },
     "execution_count": 409,
     "metadata": {},
     "output_type": "execute_result"
    }
   ],
   "source": [
    "logit_summary2 = pd.DataFrame(best_thresholds_cv.items(),columns=['Model', 'Avg of optimal thresholds'])\n",
    "logit_summary2['Threshold for Fold5'] = fold5_threshold.values()\n",
    "logit_summary2['Avg expected loss'] = expected_loss_cv.values()\n",
    "logit_summary2['Expected loss for Fold5'] = fold5_expected_loss.values()\n",
    "logit_summary2"
   ]
  },
  {
   "cell_type": "markdown",
   "metadata": {},
   "source": [
    "The table presents the results of evaluating four logistic regression models (X1, X2, X3, X4) on their ability to predict outcomes, focusing on the determination of the optimal threshold for classification and the associated expected loss. The \"Avg of optimal thresholds\" column shows the average optimal threshold value for classifying observations across all folds, with X1 having the highest average threshold (0.155653) and X2 the lowest (0.122835). The \"Threshold for Fold5\" column reveals the optimal threshold specifically for the fifth fold of cross-validation, indicating slight variations from the overall average, which suggests model sensitivity to different data splits. \"Avg expected loss\" and \"Expected loss for Fold5\" columns quantify the average and fold-specific expected losses, respectively, with model X4 exhibiting the lowest average expected loss (1.147094) and, consequently, the lowest expected loss in the fifth fold (1.233333), highlighting its superior performance in minimizing cost-adjusted misclassifications. This suggests that model X4, despite having a higher threshold for the fifth fold compared to its overall average, manages to balance the trade-off between false positives and false negatives more effectively than the other models, underlining its potential as the most cost-efficient choice for prediction within this specific setup."
   ]
  },
  {
   "cell_type": "code",
   "execution_count": 410,
   "metadata": {},
   "outputs": [
    {
     "data": {
      "text/plain": [
       "0.14753079886870207"
      ]
     },
     "execution_count": 410,
     "metadata": {},
     "output_type": "execute_result"
    }
   ],
   "source": [
    "# choosing the best threshold\n",
    "best_logit_optimal_treshold = best_thresholds_cv[\"X4\"]\n",
    "best_logit_optimal_treshold"
   ]
  },
  {
   "cell_type": "code",
   "execution_count": 413,
   "metadata": {},
   "outputs": [
    {
     "name": "stdout",
     "output_type": "stream",
     "text": [
      "Exptected loss on holdout set is: 0.613\n"
     ]
    }
   ],
   "source": [
    "# Apply the optimal threshold to the holdout set to classify observations\n",
    "holdout_treshold = np.where(logit_predicted_probabilities_holdout < best_logit_optimal_treshold, 0, 1)\n",
    "\n",
    "# Calculate the confusion matrix components: true negatives (tn), false positives (fp), false negatives (fn), and true positives (tp)\n",
    "tn, fp, fn, tp = confusion_matrix(y_holdout, holdout_treshold, labels=[0,1]).ravel()\n",
    "\n",
    "# Compute the expected loss on the holdout set using the calculated tn, fp, fn, tp, and predefined FP and FN costs\n",
    "expected_loss_holdout_log1 = (fp*FP + fn*FN)/len(y_holdout)\n",
    "\n",
    "# print the expected loss\n",
    "print('Exptected loss on holdout set is:',round(expected_loss_holdout_log1, 3))"
   ]
  },
  {
   "cell_type": "code",
   "execution_count": 414,
   "metadata": {},
   "outputs": [
    {
     "data": {
      "text/html": [
       "<div>\n",
       "<style scoped>\n",
       "    .dataframe tbody tr th:only-of-type {\n",
       "        vertical-align: middle;\n",
       "    }\n",
       "\n",
       "    .dataframe tbody tr th {\n",
       "        vertical-align: top;\n",
       "    }\n",
       "\n",
       "    .dataframe thead th {\n",
       "        text-align: right;\n",
       "    }\n",
       "</style>\n",
       "<table border=\"1\" class=\"dataframe\">\n",
       "  <thead>\n",
       "    <tr style=\"text-align: right;\">\n",
       "      <th></th>\n",
       "      <th>Predicted no default</th>\n",
       "      <th>Predicted default</th>\n",
       "    </tr>\n",
       "  </thead>\n",
       "  <tbody>\n",
       "    <tr>\n",
       "      <th>Actul no defaul</th>\n",
       "      <td>909</td>\n",
       "      <td>72</td>\n",
       "    </tr>\n",
       "    <tr>\n",
       "      <th>Actual default</th>\n",
       "      <td>28</td>\n",
       "      <td>28</td>\n",
       "    </tr>\n",
       "  </tbody>\n",
       "</table>\n",
       "</div>"
      ],
      "text/plain": [
       "                 Predicted no default  Predicted default\n",
       "Actul no defaul                   909                 72\n",
       "Actual default                     28                 28"
      ]
     },
     "execution_count": 414,
     "metadata": {},
     "output_type": "execute_result"
    }
   ],
   "source": [
    "# Create a DataFrame from the confusion matrix for better visualization and understanding of the model's performance\n",
    "cm_object3 = confusion_matrix(y_holdout, holdout_treshold, labels=[0,1])\n",
    "cm3 = pd.DataFrame(cm_object3, \n",
    "    index=['Actul no defaul', 'Actual default'], \n",
    "    columns=['Predicted no default', 'Predicted default'])\n",
    "cm3"
   ]
  },
  {
   "cell_type": "markdown",
   "metadata": {},
   "source": [
    "The confusion matrix provides a detailed breakdown of the model's predictions against the actual outcomes for the holdout dataset, revealing its predictive performance. With 981 firms that stayed alive and 56 that defaulted in the actual data:\n",
    "\n",
    "- True Negatives (TN): 909 firms were correctly predicted as \"no default\" (stayed alive), indicating the model's ability to identify firms that would continue operating.\n",
    "- False Positives (FP): 72 firms were incorrectly predicted to default (\"Predicted default\") when they actually stayed alive. This represents Type I error, where the model mistakenly flags firms at risk.\n",
    "- False Negatives (FN): 28 firms were incorrectly predicted as \"no default\" when they actually defaulted. This represents Type II error, indicating missed opportunities to identify at-risk firms.\n",
    "- True Positives (TP): 28 firms were correctly predicted to default, showcasing the model's capability to identify actual defaults accurately.\n",
    "\n",
    "Given the context, the model demonstrates a balanced ability to detect both defaults and non-defaults, with an equal number of true positives and false negatives. However, the presence of false positives and false negatives highlights the model's limitations in perfectly classifying firms. The goal in predictive modeling, especially in financial contexts like default prediction, is to maximize true positives (correctly identifying defaults) while minimizing false negatives (missing defaults) due to the typically higher cost associated with failing to identify a defaulting firm. The model's performance suggests room for improvement, particularly in reducing false negatives and false positives, to enhance its predictive accuracy and reliability in identifying default risk among firms."
   ]
  },
  {
   "cell_type": "code",
   "execution_count": 417,
   "metadata": {},
   "outputs": [
    {
     "name": "stdout",
     "output_type": "stream",
     "text": [
      "FPR: 0.073\n",
      "FNR: 0.5\n",
      "TPR: 0.5\n"
     ]
    }
   ],
   "source": [
    "# print false positive rate\n",
    "print(f'FPR: {round(cm3.iloc[0,1] / cm3.iloc[0].sum(), 3)}')\n",
    "# print false negative rate\n",
    "print(f'FNR: {round(cm3.iloc[1,0] / cm3.iloc[1].sum(), 3)}')\n",
    "# print true positive rate\n",
    "print(f'TPR: {round(cm3.iloc[1,1] / cm3.iloc[1].sum(), 3)}')"
   ]
  },
  {
   "cell_type": "markdown",
   "metadata": {},
   "source": [
    "## Random Forest"
   ]
  },
  {
   "cell_type": "code",
   "execution_count": 418,
   "metadata": {},
   "outputs": [],
   "source": [
    "# Select the training and holdout sets for the random forest variables based on predefined indices\n",
    "rfvars_train = rfvars.loc[index_train]\n",
    "rfvars_holdout = rfvars.loc[index_holdout]"
   ]
  },
  {
   "cell_type": "code",
   "execution_count": 419,
   "metadata": {},
   "outputs": [],
   "source": [
    "# Define a parameter grid for optimizing a tree-based model, specifying options for the number of features considered at each split,\n",
    "# the criterion for the split quality, and the minimum number of samples required to split a node.\n",
    "grid = {'max_features': [5, 6, 7],\n",
    "        'criterion':['gini'],\n",
    "        'min_samples_split': [11, 16]}"
   ]
  },
  {
   "cell_type": "code",
   "execution_count": 420,
   "metadata": {},
   "outputs": [],
   "source": [
    "# Initialize a RandomForestClassifier with specific settings\n",
    "prob_forest = RandomForestClassifier(\n",
    "    random_state=20240303, \n",
    "    n_estimators=500,  # Specify the number of trees in the forest\n",
    "    oob_score=True) \n",
    "\n",
    "# Set up a grid search to optimize the Random Forest parameters\n",
    "prob_forest_grid = GridSearchCV(\n",
    "    prob_forest,\n",
    "    grid,  # Parameter grid to search through\n",
    "    cv=k, \n",
    "    refit='roc_auc',  \n",
    "    scoring=['accuracy', 'roc_auc', 'neg_brier_score'],  # Scoring metrics to evaluate\n",
    "    n_jobs=-1)\n"
   ]
  },
  {
   "cell_type": "code",
   "execution_count": 421,
   "metadata": {},
   "outputs": [
    {
     "name": "stdout",
     "output_type": "stream",
     "text": [
      "CPU times: total: 21.5 s\n",
      "Wall time: 5min 15s\n"
     ]
    }
   ],
   "source": [
    "%%time\n",
    "prob_forest_fit = prob_forest_grid.fit(rfvars_train, y_train)"
   ]
  },
  {
   "cell_type": "code",
   "execution_count": 423,
   "metadata": {},
   "outputs": [
    {
     "data": {
      "text/plain": [
       "array([0.90475447, 0.90485318, 0.90559386, 0.90490257, 0.90598882,\n",
       "       0.90544569])"
      ]
     },
     "execution_count": 423,
     "metadata": {},
     "output_type": "execute_result"
    }
   ],
   "source": [
    "# Calculate the average cross-validation accuracy across 5 folds for the Random Forest model\n",
    "cv_accuracy = np.zeros([6])  # Initialize an array to hold accuracy scores for 6 different scenarios\n",
    "for i in range(5):\n",
    "    cv_accuracy = cv_accuracy + prob_forest_fit.cv_results_['split' + str(i) + '_test_accuracy']\n",
    "\n",
    "# getting average accuracy\n",
    "cv_accuracy = cv_accuracy/5  \n",
    "cv_accuracy "
   ]
  },
  {
   "cell_type": "code",
   "execution_count": 424,
   "metadata": {},
   "outputs": [
    {
     "data": {
      "text/plain": [
       "array([0.82654093, 0.82580504, 0.82566706, 0.82607125, 0.82606182,\n",
       "       0.82606764])"
      ]
     },
     "execution_count": 424,
     "metadata": {},
     "output_type": "execute_result"
    }
   ],
   "source": [
    "# the same calculation for AUC\n",
    "cv_auc = np.zeros([6])\n",
    "for i in range(5):\n",
    "    cv_auc = cv_auc + prob_forest_fit.cv_results_['split' + str(i) + '_test_roc_auc']\n",
    "cv_auc = cv_auc/5\n",
    "cv_auc"
   ]
  },
  {
   "cell_type": "code",
   "execution_count": 425,
   "metadata": {},
   "outputs": [
    {
     "data": {
      "text/plain": [
       "array([0.27300076, 0.27334035, 0.27293864, 0.27305182, 0.27275012,\n",
       "       0.2728679 ])"
      ]
     },
     "execution_count": 425,
     "metadata": {},
     "output_type": "execute_result"
    }
   ],
   "source": [
    "# the same calculation for RMSE\n",
    "cv_rmse = np.zeros([6])\n",
    "for i in range(5):\n",
    "    cv_rmse = cv_rmse +np.sqrt(-1*(prob_forest_fit.cv_results_['split' + str(i) + '_test_neg_brier_score'])).tolist()\n",
    "cv_rmse = cv_rmse/5\n",
    "cv_rmse"
   ]
  },
  {
   "cell_type": "code",
   "execution_count": 426,
   "metadata": {},
   "outputs": [
    {
     "data": {
      "text/html": [
       "<div>\n",
       "<style scoped>\n",
       "    .dataframe tbody tr th:only-of-type {\n",
       "        vertical-align: middle;\n",
       "    }\n",
       "\n",
       "    .dataframe tbody tr th {\n",
       "        vertical-align: top;\n",
       "    }\n",
       "\n",
       "    .dataframe thead th {\n",
       "        text-align: right;\n",
       "    }\n",
       "</style>\n",
       "<table border=\"1\" class=\"dataframe\">\n",
       "  <thead>\n",
       "    <tr style=\"text-align: right;\">\n",
       "      <th></th>\n",
       "      <th>max_features</th>\n",
       "      <th>min_samples_split</th>\n",
       "      <th>cv_accuracy</th>\n",
       "      <th>cv_auc</th>\n",
       "      <th>cv_rmse</th>\n",
       "    </tr>\n",
       "  </thead>\n",
       "  <tbody>\n",
       "    <tr>\n",
       "      <th>0</th>\n",
       "      <td>5</td>\n",
       "      <td>11</td>\n",
       "      <td>0.904754</td>\n",
       "      <td>0.826541</td>\n",
       "      <td>0.273001</td>\n",
       "    </tr>\n",
       "    <tr>\n",
       "      <th>1</th>\n",
       "      <td>5</td>\n",
       "      <td>16</td>\n",
       "      <td>0.904853</td>\n",
       "      <td>0.825805</td>\n",
       "      <td>0.273340</td>\n",
       "    </tr>\n",
       "    <tr>\n",
       "      <th>2</th>\n",
       "      <td>6</td>\n",
       "      <td>11</td>\n",
       "      <td>0.905594</td>\n",
       "      <td>0.825667</td>\n",
       "      <td>0.272939</td>\n",
       "    </tr>\n",
       "    <tr>\n",
       "      <th>3</th>\n",
       "      <td>6</td>\n",
       "      <td>16</td>\n",
       "      <td>0.904903</td>\n",
       "      <td>0.826071</td>\n",
       "      <td>0.273052</td>\n",
       "    </tr>\n",
       "    <tr>\n",
       "      <th>4</th>\n",
       "      <td>7</td>\n",
       "      <td>11</td>\n",
       "      <td>0.905989</td>\n",
       "      <td>0.826062</td>\n",
       "      <td>0.272750</td>\n",
       "    </tr>\n",
       "    <tr>\n",
       "      <th>5</th>\n",
       "      <td>7</td>\n",
       "      <td>16</td>\n",
       "      <td>0.905446</td>\n",
       "      <td>0.826068</td>\n",
       "      <td>0.272868</td>\n",
       "    </tr>\n",
       "  </tbody>\n",
       "</table>\n",
       "</div>"
      ],
      "text/plain": [
       "  max_features min_samples_split  cv_accuracy    cv_auc   cv_rmse\n",
       "0            5                11     0.904754  0.826541  0.273001\n",
       "1            5                16     0.904853  0.825805  0.273340\n",
       "2            6                11     0.905594  0.825667  0.272939\n",
       "3            6                16     0.904903  0.826071  0.273052\n",
       "4            7                11     0.905989  0.826062  0.272750\n",
       "5            7                16     0.905446  0.826068  0.272868"
      ]
     },
     "execution_count": 426,
     "metadata": {},
     "output_type": "execute_result"
    }
   ],
   "source": [
    "# put the results in a dataframe\n",
    "prob_forest_cv_results = pd.DataFrame({\n",
    "    'max_features': prob_forest_fit.cv_results_['param_max_features'],\n",
    "    'min_samples_split': prob_forest_fit.cv_results_['param_min_samples_split'],\n",
    "    'cv_accuracy': cv_accuracy,\n",
    "    'cv_auc': cv_auc,\n",
    "    'cv_rmse': cv_rmse\n",
    "})\n",
    "\n",
    "# print the results\n",
    "prob_forest_cv_results"
   ]
  },
  {
   "cell_type": "code",
   "execution_count": 428,
   "metadata": {},
   "outputs": [
    {
     "name": "stdout",
     "output_type": "stream",
     "text": [
      "The best random forest model has the following features: {'criterion': 'gini', 'max_features': 5, 'min_samples_split': 11}\n"
     ]
    }
   ],
   "source": [
    "# find the best parameters\n",
    "best_max_features = prob_forest_fit.best_params_['max_features']\n",
    "best_min_sample_split = prob_forest_fit.best_params_['min_samples_split']\n",
    "print(f'The best random forest model has the following features: {prob_forest_fit.best_params_}')"
   ]
  },
  {
   "cell_type": "markdown",
   "metadata": {},
   "source": [
    "#### Using loss function and search for finding the best thresholds and expected loss over folds"
   ]
  },
  {
   "cell_type": "code",
   "execution_count": 430,
   "metadata": {},
   "outputs": [],
   "source": [
    "best_thresholds = list()\n",
    "expected_loss = list()\n",
    "\n",
    "fold = 0\n",
    "for train_index, test_index in k.split(rfvars_train):\n",
    "    X_fold = rfvars_train.iloc[test_index,:]\n",
    "    y_fold = y_train.iloc[test_index]\n",
    "    \n",
    "    X_fold_train = rfvars_train.iloc[train_index,:]\n",
    "    y_fold_train = y_train.iloc[train_index]\n",
    "    \n",
    "    prob_forest_best = RandomForestClassifier(\n",
    "        random_state=20240303, \n",
    "        n_estimators=500, \n",
    "        oob_score=True,\n",
    "        criterion = 'gini', \n",
    "        max_features = best_max_features, min_samples_split = best_min_sample_split)\n",
    "    \n",
    "    prob_forest_best_fold = prob_forest_best.fit(X_fold_train, y_fold_train)\n",
    "    pred_fold = prob_forest_best_fold.predict_proba(X_fold)[:,1]\n",
    "\n",
    "    false_pos_rate, true_pos_rate, threshold = roc_curve(y_fold, pred_fold)\n",
    "    \n",
    "    best_threshold = sorted(\n",
    "        list(\n",
    "            zip(\n",
    "                np.abs(\n",
    "                    true_pos_rate + (1 - prevelance)/(cost * prevelance)*(1-false_pos_rate)\n",
    "                ),\n",
    "                threshold\n",
    "            )\n",
    "        ), \n",
    "        key=lambda x: x[0], reverse=True)[0][1]\n",
    "    \n",
    "    best_thresholds.append(best_threshold)\n",
    "    \n",
    "    threshold_prediction = np.where(pred_fold < best_threshold, 0, 1)\n",
    "    tn, fp, fn, tp = confusion_matrix(y_fold, threshold_prediction, labels=[0,1]).ravel()\n",
    "    curr_exp_loss = (fp*FP + fn*FN)/len(y_fold)\n",
    "    expected_loss.append(curr_exp_loss)"
   ]
  },
  {
   "cell_type": "code",
   "execution_count": 431,
   "metadata": {},
   "outputs": [
    {
     "data": {
      "text/plain": [
       "[0.1762019667295211,\n",
       " 0.1924037060597231,\n",
       " 0.18467036318776123,\n",
       " 0.18243273633830906,\n",
       " 0.22571352168643188]"
      ]
     },
     "execution_count": 431,
     "metadata": {},
     "output_type": "execute_result"
    }
   ],
   "source": [
    "best_thresholds"
   ]
  },
  {
   "cell_type": "code",
   "execution_count": 434,
   "metadata": {},
   "outputs": [
    {
     "data": {
      "text/plain": [
       "([0.9242162429029869,\n",
       "  0.9597630214761788,\n",
       "  1.0256726734139718,\n",
       "  0.9955555555555555,\n",
       "  1.0140740740740741],\n",
       " 0.9838563134845535)"
      ]
     },
     "execution_count": 434,
     "metadata": {},
     "output_type": "execute_result"
    }
   ],
   "source": [
    "# expected loss and the average of it\n",
    "expected_loss, np.mean(expected_loss)"
   ]
  },
  {
   "cell_type": "code",
   "execution_count": 436,
   "metadata": {},
   "outputs": [
    {
     "data": {
      "text/html": [
       "<div>\n",
       "<style scoped>\n",
       "    .dataframe tbody tr th:only-of-type {\n",
       "        vertical-align: middle;\n",
       "    }\n",
       "\n",
       "    .dataframe tbody tr th {\n",
       "        vertical-align: top;\n",
       "    }\n",
       "\n",
       "    .dataframe thead th {\n",
       "        text-align: right;\n",
       "    }\n",
       "</style>\n",
       "<table border=\"1\" class=\"dataframe\">\n",
       "  <thead>\n",
       "    <tr style=\"text-align: right;\">\n",
       "      <th></th>\n",
       "      <th>false_pos</th>\n",
       "      <th>true_pos</th>\n",
       "      <th>false_neg</th>\n",
       "      <th>true_neg</th>\n",
       "      <th>pos</th>\n",
       "      <th>neg</th>\n",
       "      <th>n</th>\n",
       "      <th>thresholds</th>\n",
       "    </tr>\n",
       "  </thead>\n",
       "  <tbody>\n",
       "    <tr>\n",
       "      <th>0</th>\n",
       "      <td>0.0</td>\n",
       "      <td>0.0</td>\n",
       "      <td>443.0</td>\n",
       "      <td>3607.0</td>\n",
       "      <td>443</td>\n",
       "      <td>3607</td>\n",
       "      <td>4050</td>\n",
       "      <td>inf</td>\n",
       "    </tr>\n",
       "    <tr>\n",
       "      <th>1</th>\n",
       "      <td>0.0</td>\n",
       "      <td>1.0</td>\n",
       "      <td>442.0</td>\n",
       "      <td>3607.0</td>\n",
       "      <td>443</td>\n",
       "      <td>3607</td>\n",
       "      <td>4050</td>\n",
       "      <td>0.754260</td>\n",
       "    </tr>\n",
       "    <tr>\n",
       "      <th>2</th>\n",
       "      <td>0.0</td>\n",
       "      <td>5.0</td>\n",
       "      <td>438.0</td>\n",
       "      <td>3607.0</td>\n",
       "      <td>443</td>\n",
       "      <td>3607</td>\n",
       "      <td>4050</td>\n",
       "      <td>0.711212</td>\n",
       "    </tr>\n",
       "    <tr>\n",
       "      <th>3</th>\n",
       "      <td>1.0</td>\n",
       "      <td>5.0</td>\n",
       "      <td>438.0</td>\n",
       "      <td>3606.0</td>\n",
       "      <td>443</td>\n",
       "      <td>3607</td>\n",
       "      <td>4050</td>\n",
       "      <td>0.705140</td>\n",
       "    </tr>\n",
       "    <tr>\n",
       "      <th>4</th>\n",
       "      <td>1.0</td>\n",
       "      <td>7.0</td>\n",
       "      <td>436.0</td>\n",
       "      <td>3606.0</td>\n",
       "      <td>443</td>\n",
       "      <td>3607</td>\n",
       "      <td>4050</td>\n",
       "      <td>0.702272</td>\n",
       "    </tr>\n",
       "  </tbody>\n",
       "</table>\n",
       "</div>"
      ],
      "text/plain": [
       "   false_pos  true_pos  false_neg  true_neg  pos   neg     n  thresholds\n",
       "0        0.0       0.0      443.0    3607.0  443  3607  4050         inf\n",
       "1        0.0       1.0      442.0    3607.0  443  3607  4050    0.754260\n",
       "2        0.0       5.0      438.0    3607.0  443  3607  4050    0.711212\n",
       "3        1.0       5.0      438.0    3606.0  443  3607  4050    0.705140\n",
       "4        1.0       7.0      436.0    3606.0  443  3607  4050    0.702272"
      ]
     },
     "execution_count": 436,
     "metadata": {},
     "output_type": "execute_result"
    }
   ],
   "source": [
    "# Store the best threshold and expected loss from the last cross-validation fold\n",
    "fold5_threshold_rf = best_threshold\n",
    "fold5_expected_loss_rf = curr_exp_loss\n",
    "\n",
    "# Create a DataFrame summarizing the model's performance metrics at various thresholds for the last fold\n",
    "all_coords_rf = pd.DataFrame({\n",
    "    'false_pos': false_pos_rate*sum(y_fold == 0),  \n",
    "    'true_pos': true_pos_rate*sum(y_fold == 1), \n",
    "    'false_neg': sum(y_fold == 1) - true_pos_rate*sum(y_fold == 1),  \n",
    "    'true_neg': sum(y_fold == 0) - false_pos_rate*sum(y_fold == 0),  \n",
    "    'pos': sum(y_fold == 1),  \n",
    "    'neg': sum(y_fold == 0),  \n",
    "    'n': len(y_fold),  \n",
    "    'thresholds': threshold \n",
    "})\n",
    "\n",
    "# show only first 5 rows because there are too many rows\n",
    "all_coords_rf.head()\n"
   ]
  },
  {
   "cell_type": "code",
   "execution_count": 437,
   "metadata": {},
   "outputs": [
    {
     "data": {
      "text/html": [
       "<div>\n",
       "<style scoped>\n",
       "    .dataframe tbody tr th:only-of-type {\n",
       "        vertical-align: middle;\n",
       "    }\n",
       "\n",
       "    .dataframe tbody tr th {\n",
       "        vertical-align: top;\n",
       "    }\n",
       "\n",
       "    .dataframe thead th {\n",
       "        text-align: right;\n",
       "    }\n",
       "</style>\n",
       "<table border=\"1\" class=\"dataframe\">\n",
       "  <thead>\n",
       "    <tr style=\"text-align: right;\">\n",
       "      <th></th>\n",
       "      <th>false_pos</th>\n",
       "      <th>true_pos</th>\n",
       "      <th>false_neg</th>\n",
       "      <th>true_neg</th>\n",
       "      <th>pos</th>\n",
       "      <th>neg</th>\n",
       "      <th>n</th>\n",
       "      <th>thresholds</th>\n",
       "    </tr>\n",
       "  </thead>\n",
       "  <tbody>\n",
       "    <tr>\n",
       "      <th>621</th>\n",
       "      <td>3177.0</td>\n",
       "      <td>441.0</td>\n",
       "      <td>2.0</td>\n",
       "      <td>430.0</td>\n",
       "      <td>443</td>\n",
       "      <td>3607</td>\n",
       "      <td>4050</td>\n",
       "      <td>0.010277</td>\n",
       "    </tr>\n",
       "    <tr>\n",
       "      <th>622</th>\n",
       "      <td>3177.0</td>\n",
       "      <td>442.0</td>\n",
       "      <td>1.0</td>\n",
       "      <td>430.0</td>\n",
       "      <td>443</td>\n",
       "      <td>3607</td>\n",
       "      <td>4050</td>\n",
       "      <td>0.010273</td>\n",
       "    </tr>\n",
       "    <tr>\n",
       "      <th>623</th>\n",
       "      <td>3212.0</td>\n",
       "      <td>442.0</td>\n",
       "      <td>1.0</td>\n",
       "      <td>395.0</td>\n",
       "      <td>443</td>\n",
       "      <td>3607</td>\n",
       "      <td>4050</td>\n",
       "      <td>0.009470</td>\n",
       "    </tr>\n",
       "    <tr>\n",
       "      <th>624</th>\n",
       "      <td>3212.0</td>\n",
       "      <td>443.0</td>\n",
       "      <td>0.0</td>\n",
       "      <td>395.0</td>\n",
       "      <td>443</td>\n",
       "      <td>3607</td>\n",
       "      <td>4050</td>\n",
       "      <td>0.009438</td>\n",
       "    </tr>\n",
       "    <tr>\n",
       "      <th>625</th>\n",
       "      <td>3607.0</td>\n",
       "      <td>443.0</td>\n",
       "      <td>0.0</td>\n",
       "      <td>0.0</td>\n",
       "      <td>443</td>\n",
       "      <td>3607</td>\n",
       "      <td>4050</td>\n",
       "      <td>0.000000</td>\n",
       "    </tr>\n",
       "  </tbody>\n",
       "</table>\n",
       "</div>"
      ],
      "text/plain": [
       "     false_pos  true_pos  false_neg  true_neg  pos   neg     n  thresholds\n",
       "621     3177.0     441.0        2.0     430.0  443  3607  4050    0.010277\n",
       "622     3177.0     442.0        1.0     430.0  443  3607  4050    0.010273\n",
       "623     3212.0     442.0        1.0     395.0  443  3607  4050    0.009470\n",
       "624     3212.0     443.0        0.0     395.0  443  3607  4050    0.009438\n",
       "625     3607.0     443.0        0.0       0.0  443  3607  4050    0.000000"
      ]
     },
     "execution_count": 437,
     "metadata": {},
     "output_type": "execute_result"
    }
   ],
   "source": [
    "# show the last 5 rows\n",
    "all_coords_rf.tail()"
   ]
  },
  {
   "cell_type": "code",
   "execution_count": 438,
   "metadata": {},
   "outputs": [],
   "source": [
    "# average of the best thresholds and expected loss\n",
    "expected_loss_cv['rf_p'] = np.mean(expected_loss)\n",
    "best_thresholds_cv['rf_p'] = np.mean(best_thresholds)"
   ]
  },
  {
   "cell_type": "code",
   "execution_count": 439,
   "metadata": {},
   "outputs": [],
   "source": [
    "# Filter the CV results DataFrame for the row matching the best parameters to identify the index of the best model's results\n",
    "prob_forest_best_results = prob_forest_cv_results[\n",
    "    (prob_forest_cv_results.max_features == best_max_features) & \n",
    "    (prob_forest_cv_results.min_samples_split == best_min_sample_split)]\n",
    "prob_forest_best_results_index = prob_forest_best_results.index.values[0]"
   ]
  },
  {
   "cell_type": "code",
   "execution_count": 440,
   "metadata": {},
   "outputs": [
    {
     "data": {
      "text/html": [
       "<div>\n",
       "<style scoped>\n",
       "    .dataframe tbody tr th:only-of-type {\n",
       "        vertical-align: middle;\n",
       "    }\n",
       "\n",
       "    .dataframe tbody tr th {\n",
       "        vertical-align: top;\n",
       "    }\n",
       "\n",
       "    .dataframe thead th {\n",
       "        text-align: right;\n",
       "    }\n",
       "</style>\n",
       "<table border=\"1\" class=\"dataframe\">\n",
       "  <thead>\n",
       "    <tr style=\"text-align: right;\">\n",
       "      <th></th>\n",
       "      <th>CV RMSE</th>\n",
       "      <th>CV AUC</th>\n",
       "      <th>Avg of optimal thresholds</th>\n",
       "      <th>Threshold for Fold5</th>\n",
       "      <th>Avg expected loss</th>\n",
       "      <th>Expected loss for Fold5</th>\n",
       "    </tr>\n",
       "  </thead>\n",
       "  <tbody>\n",
       "    <tr>\n",
       "      <th>0</th>\n",
       "      <td>0.273</td>\n",
       "      <td>0.827</td>\n",
       "      <td>0.192</td>\n",
       "      <td>0.226</td>\n",
       "      <td>0.984</td>\n",
       "      <td>1.014</td>\n",
       "    </tr>\n",
       "  </tbody>\n",
       "</table>\n",
       "</div>"
      ],
      "text/plain": [
       "   CV RMSE  CV AUC  Avg of optimal thresholds  Threshold for Fold5  \\\n",
       "0    0.273   0.827                      0.192                0.226   \n",
       "\n",
       "   Avg expected loss  Expected loss for Fold5  \n",
       "0              0.984                    1.014  "
      ]
     },
     "execution_count": 440,
     "metadata": {},
     "output_type": "execute_result"
    }
   ],
   "source": [
    "# Create a summary DataFrame for the Random Forest model's performance metrics\n",
    "rf_summary = pd.DataFrame(\n",
    "    {'CV RMSE': [round(prob_forest_best_results.cv_rmse.values[0], 3)],\n",
    "     'CV AUC': [round(prob_forest_best_results.cv_auc.values[0], 3)],\n",
    "     'Avg of optimal thresholds': [round(best_thresholds_cv['rf_p'], 3)],\n",
    "     'Threshold for Fold5': [round(best_threshold, 3)],\n",
    "     'Avg expected loss': [round(expected_loss_cv['rf_p'], 3)],\n",
    "     'Expected loss for Fold5': [round(curr_exp_loss, 3)]})\n",
    "\n",
    "rf_summary"
   ]
  },
  {
   "cell_type": "markdown",
   "metadata": {},
   "source": [
    "#### Try the model on holdout set and estimate RMSE, expected loss and AUC"
   ]
  },
  {
   "cell_type": "code",
   "execution_count": 441,
   "metadata": {},
   "outputs": [
    {
     "name": "stdout",
     "output_type": "stream",
     "text": [
      "RMSE of Random Forest on holdout set is: 0.209\n"
     ]
    }
   ],
   "source": [
    "# Retrieve the best estimator from the grid search\n",
    "prob_forest_fit_best = prob_forest_fit.best_estimator_\n",
    "\n",
    "# Use the best model to predict probabilities on the holdout set\n",
    "rf_predicted_probabilities_holdout = prob_forest_fit_best.predict_proba(rfvars_holdout)[:,1]\n",
    "\n",
    "# Calculate RMSE between the holdout set true values and the predicted probabilities\n",
    "rmse_rf = np.sqrt(mean_squared_error(y_holdout, rf_predicted_probabilities_holdout))\n",
    "\n",
    "# Print the RMSE of the Random Forest model on the holdout set\n",
    "print('RMSE of Random Forest on holdout set is:', round(rmse_rf, 3))\n"
   ]
  },
  {
   "cell_type": "markdown",
   "metadata": {},
   "source": [
    "We can notice that it is lower than for the best logistic model(0.214), which suggests that Random Forest model performs better than Logistic Model number 4"
   ]
  },
  {
   "cell_type": "code",
   "execution_count": 442,
   "metadata": {},
   "outputs": [
    {
     "name": "stdout",
     "output_type": "stream",
     "text": [
      "AUC of Random Forest on holdout set is: 0.86\n"
     ]
    }
   ],
   "source": [
    "# calculating auc\n",
    "auc_rf = roc_auc_score(y_holdout, rf_predicted_probabilities_holdout)\n",
    "print('AUC of Random Forest on holdout set is:', round(auc_rf, 3))"
   ]
  },
  {
   "cell_type": "markdown",
   "metadata": {},
   "source": [
    "AUC value is also higher than in logistic regression model(0.86 vs 0.813)"
   ]
  },
  {
   "cell_type": "code",
   "execution_count": 445,
   "metadata": {},
   "outputs": [
    {
     "name": "stdout",
     "output_type": "stream",
     "text": [
      "Expected loss is 0.616\n"
     ]
    }
   ],
   "source": [
    "# applying optimal threshold for holdout set in Random Forest model\n",
    "holdout_treshold = np.where(rf_predicted_probabilities_holdout < best_thresholds_cv['rf_p'], 0, 1)\n",
    "tn, fp, fn, tp = confusion_matrix(y_holdout, holdout_treshold, labels=[0,1]).ravel()\n",
    "expected_loss_holdout_rf1 = (fp*FP + fn*FN)/len(y_holdout)\n",
    "print('Expected loss is', round(expected_loss_holdout_rf1, 3))"
   ]
  },
  {
   "cell_type": "code",
   "execution_count": 446,
   "metadata": {},
   "outputs": [
    {
     "data": {
      "image/png": "[encoded data removed]",
      "text/plain": [
       "<Figure size 640x480 with 1 Axes>"
      ]
     },
     "metadata": {
      "image/png": {
       "height": 480,
       "width": 640
      }
     },
     "output_type": "display_data"
    },
    {
     "data": {
      "text/plain": [
       "<Figure Size: (640 x 480)>"
      ]
     },
     "execution_count": 446,
     "metadata": {},
     "output_type": "execute_result"
    }
   ],
   "source": [
    "# creata a loss plot\n",
    "create_loss_plot(all_coords_rf, fold5_threshold_rf, fold5_expected_loss_rf)"
   ]
  },
  {
   "cell_type": "code",
   "execution_count": 448,
   "metadata": {},
   "outputs": [
    {
     "data": {
      "text/html": [
       "<div>\n",
       "<style scoped>\n",
       "    .dataframe tbody tr th:only-of-type {\n",
       "        vertical-align: middle;\n",
       "    }\n",
       "\n",
       "    .dataframe tbody tr th {\n",
       "        vertical-align: top;\n",
       "    }\n",
       "\n",
       "    .dataframe thead th {\n",
       "        text-align: right;\n",
       "    }\n",
       "</style>\n",
       "<table border=\"1\" class=\"dataframe\">\n",
       "  <thead>\n",
       "    <tr style=\"text-align: right;\">\n",
       "      <th></th>\n",
       "      <th>Predicted no default</th>\n",
       "      <th>Predicted default</th>\n",
       "    </tr>\n",
       "  </thead>\n",
       "  <tbody>\n",
       "    <tr>\n",
       "      <th>Actul no defaul</th>\n",
       "      <td>898</td>\n",
       "      <td>83</td>\n",
       "    </tr>\n",
       "    <tr>\n",
       "      <th>Actual default</th>\n",
       "      <td>26</td>\n",
       "      <td>30</td>\n",
       "    </tr>\n",
       "  </tbody>\n",
       "</table>\n",
       "</div>"
      ],
      "text/plain": [
       "                 Predicted no default  Predicted default\n",
       "Actul no defaul                   898                 83\n",
       "Actual default                     26                 30"
      ]
     },
     "execution_count": 448,
     "metadata": {},
     "output_type": "execute_result"
    }
   ],
   "source": [
    "# confusion matrix\n",
    "cm_object4 = confusion_matrix(y_holdout, holdout_treshold, labels=[0,1])\n",
    "cm4 = pd.DataFrame(cm_object4, \n",
    "    index=['Actul no defaul', 'Actual default'], \n",
    "    columns=['Predicted no default', 'Predicted default'])\n",
    "cm4"
   ]
  },
  {
   "cell_type": "markdown",
   "metadata": {},
   "source": [
    "The confusion matrix for the Random Forest model shows that out of the firms predicted to not default, 898 were correctly identified (true negatives), but 26 defaults were missed (false negatives). On the other hand, of those predicted to default, 30 were accurately predicted (true positives), while 83 were incorrectly classified as defaults (false positives). This indicates a relatively strong ability of the model to identify non-defaulting firms, albeit with some room for improvement in correctly identifying actual defaults and reducing false positives."
   ]
  },
  {
   "cell_type": "code",
   "execution_count": 450,
   "metadata": {},
   "outputs": [
    {
     "data": {
      "image/png": "[encoded data removed]",
      "text/plain": [
       "<Figure size 640x480 with 1 Axes>"
      ]
     },
     "metadata": {
      "image/png": {
       "height": 480,
       "width": 640
      }
     },
     "output_type": "display_data"
    },
    {
     "data": {
      "text/plain": [
       "<Figure Size: (640 x 480)>"
      ]
     },
     "execution_count": 450,
     "metadata": {},
     "output_type": "execute_result"
    }
   ],
   "source": [
    "# roc plot\n",
    "create_roc_plot(y_holdout, rf_predicted_probabilities_holdout)"
   ]
  },
  {
   "cell_type": "markdown",
   "metadata": {},
   "source": [
    "Visually we can confirm that AUC value is also higher in RF than in logistic regression model(0.86 vs 0.813)"
   ]
  },
  {
   "cell_type": "markdown",
   "metadata": {},
   "source": [
    "### Variable importance plot"
   ]
  },
  {
   "cell_type": "code",
   "execution_count": 463,
   "metadata": {},
   "outputs": [
    {
     "data": {
      "text/html": [
       "<div>\n",
       "<style scoped>\n",
       "    .dataframe tbody tr th:only-of-type {\n",
       "        vertical-align: middle;\n",
       "    }\n",
       "\n",
       "    .dataframe tbody tr th {\n",
       "        vertical-align: top;\n",
       "    }\n",
       "\n",
       "    .dataframe thead th {\n",
       "        text-align: right;\n",
       "    }\n",
       "</style>\n",
       "<table border=\"1\" class=\"dataframe\">\n",
       "  <thead>\n",
       "    <tr style=\"text-align: right;\">\n",
       "      <th></th>\n",
       "      <th>variable</th>\n",
       "      <th>imp</th>\n",
       "    </tr>\n",
       "  </thead>\n",
       "  <tbody>\n",
       "    <tr>\n",
       "      <th>0</th>\n",
       "      <td>total_assets_bs</td>\n",
       "      <td>0.039588</td>\n",
       "    </tr>\n",
       "    <tr>\n",
       "      <th>1</th>\n",
       "      <td>liq_assets</td>\n",
       "      <td>0.036268</td>\n",
       "    </tr>\n",
       "    <tr>\n",
       "      <th>2</th>\n",
       "      <td>curr_assets</td>\n",
       "      <td>0.035543</td>\n",
       "    </tr>\n",
       "    <tr>\n",
       "      <th>3</th>\n",
       "      <td>d1_sales_mil_log_mod</td>\n",
       "      <td>0.034444</td>\n",
       "    </tr>\n",
       "    <tr>\n",
       "      <th>4</th>\n",
       "      <td>share_eq</td>\n",
       "      <td>0.031895</td>\n",
       "    </tr>\n",
       "    <tr>\n",
       "      <th>5</th>\n",
       "      <td>liq_assets_bs</td>\n",
       "      <td>0.031369</td>\n",
       "    </tr>\n",
       "    <tr>\n",
       "      <th>6</th>\n",
       "      <td>curr_assets_bs</td>\n",
       "      <td>0.031095</td>\n",
       "    </tr>\n",
       "    <tr>\n",
       "      <th>7</th>\n",
       "      <td>fixed_assets_bs</td>\n",
       "      <td>0.030153</td>\n",
       "    </tr>\n",
       "    <tr>\n",
       "      <th>8</th>\n",
       "      <td>sales</td>\n",
       "      <td>0.029917</td>\n",
       "    </tr>\n",
       "    <tr>\n",
       "      <th>9</th>\n",
       "      <td>fixed_assets</td>\n",
       "      <td>0.029762</td>\n",
       "    </tr>\n",
       "  </tbody>\n",
       "</table>\n",
       "</div>"
      ],
      "text/plain": [
       "               variable       imp\n",
       "0       total_assets_bs  0.039588\n",
       "1            liq_assets  0.036268\n",
       "2           curr_assets  0.035543\n",
       "3  d1_sales_mil_log_mod  0.034444\n",
       "4              share_eq  0.031895\n",
       "5         liq_assets_bs  0.031369\n",
       "6        curr_assets_bs  0.031095\n",
       "7       fixed_assets_bs  0.030153\n",
       "8                 sales  0.029917\n",
       "9          fixed_assets  0.029762"
      ]
     },
     "execution_count": 463,
     "metadata": {},
     "output_type": "execute_result"
    }
   ],
   "source": [
    "# checking feature importances\n",
    "\n",
    "pd.DataFrame(\n",
    "    prob_forest_fit.best_estimator_.feature_importances_, \n",
    "    rfvars_train.columns)\n",
    "\n",
    "df_var_imp = pd.DataFrame(\n",
    "    prob_forest_fit.best_estimator_.feature_importances_, \n",
    "    rfvars_train.columns)\\\n",
    "    .reset_index()\\\n",
    "    .rename({\"index\": \"variable\", 0: \"imp\"}, axis=1)\\\n",
    "    .sort_values(by=[\"imp\"], ascending=False)\\\n",
    "    .reset_index(drop = True)\n",
    "\n",
    "df_var_imp['cumulative_imp'] = df_var_imp['imp'].cumsum()\n",
    "top10 = df_var_imp.head(10)\n",
    "top10[['variable','imp']]"
   ]
  },
  {
   "cell_type": "code",
   "execution_count": 462,
   "metadata": {},
   "outputs": [
    {
     "data": {
      "image/png": "[encoded data removed]",
      "text/plain": [
       "<Figure size 1800x800 with 1 Axes>"
      ]
     },
     "metadata": {
      "image/png": {
       "height": 800,
       "width": 1800
      }
     },
     "output_type": "display_data"
    }
   ],
   "source": [
    "# plot variable importances\n",
    "plt.figure(figsize=(18, 8))\n",
    "sns.barplot(data=top10, x='imp', y='variable', palette='viridis')\n",
    "plt.title('Top 10 Feature Importances')\n",
    "plt.xlabel('Importance')\n",
    "plt.ylabel('Feature')\n",
    "plt.show()"
   ]
  },
  {
   "cell_type": "markdown",
   "metadata": {},
   "source": [
    " The importance score quantifies how valuable each variable is for predicting the target outcome in the model.\n",
    "\n",
    "Balance Sheet and Liquidity Variables: The most significant variables include `total_assets_bs`, `liq_assets`, and `curr_assets`, indicating that overall asset volume and liquidity measures are critical for prediction. This suggests the model heavily relies on the firm's balance sheet strength and liquidity status to make accurate predictions.\n",
    "\n",
    "Sales and Adjusted Sales Metrics: `d1_sales_mil_log_mod` and `sales` also appear as crucial predictors, underscoring the importance of a firm's revenue and its growth or decline rate in the model's decision-making process.\n",
    "\n",
    "Equity and Fixed Assets: `share_eq` (shareholders' equity) and variables related to fixed assets (`fixed_assets_bs` and `fixed_assets`) are also highlighted as important, suggesting that the model considers the firm's equity base and the value of its long-term assets significant in predicting the outcome."
   ]
  },
  {
   "cell_type": "markdown",
   "metadata": {},
   "source": [
    "Let's plot some partial dependance plots to understand the relationship between default parameter and the couple of top 10 variables"
   ]
  },
  {
   "cell_type": "code",
   "execution_count": 469,
   "metadata": {},
   "outputs": [
    {
     "data": {
      "image/png": "[encoded data removed]",
      "text/plain": [
       "<Figure size 640x480 with 1 Axes>"
      ]
     },
     "metadata": {
      "image/png": {
       "height": 480,
       "width": 640
      }
     },
     "output_type": "display_data"
    },
    {
     "name": "stdout",
     "output_type": "stream",
     "text": [
      "\n"
     ]
    }
   ],
   "source": [
    "# Generate partial dependence data\n",
    "pdp_total_assets_bs = partial_dependence(prob_forest_fit, rfvars, [\"total_assets_bs\"], kind=\"average\")\n",
    "\n",
    "# Prepare DataFrame for plotting\n",
    "pdp_df = pd.DataFrame({\n",
    "    'Total assets': pdp_total_assets_bs['values'][0].flatten(), \n",
    "    'Probability of default': pdp_total_assets_bs['average'][0].flatten()\n",
    "})\n",
    "\n",
    "# Plot the partial dependence plot\n",
    "plot = ggplot(pdp_df, aes(x='Total assets', y='Probability of default')) + \\\n",
    "    geom_point() + theme_bw() + geom_smooth(method='loess', se=False, color='blue')\n",
    "\n",
    "print(plot)"
   ]
  },
  {
   "cell_type": "markdown",
   "metadata": {},
   "source": [
    "From the plot, we observe that as total assets increase from 0, there is an initial sharp decline in the probability of default. This suggests that firms with very few assets are much more likely to default. However, as assets continue to increase, the probability of default begins to level out. The trend becomes relatively flat for higher asset values, indicating that increases in total assets beyond a certain point have a negligible impact on reducing the probability of default. This could imply that once a firm has reached a threshold of asset accumulation, other factors may play a more significant role in the default risk, or that the firm's asset size is sufficient to not significantly affect the default risk further."
   ]
  },
  {
   "cell_type": "code",
   "execution_count": 468,
   "metadata": {},
   "outputs": [
    {
     "data": {
      "image/png": "[encoded data removed]",
      "text/plain": [
       "<Figure size 640x480 with 1 Axes>"
      ]
     },
     "metadata": {
      "image/png": {
       "height": 480,
       "width": 640
      }
     },
     "output_type": "display_data"
    },
    {
     "data": {
      "text/plain": [
       "<Figure Size: (640 x 480)>"
      ]
     },
     "execution_count": 468,
     "metadata": {},
     "output_type": "execute_result"
    }
   ],
   "source": [
    "# share_eq\n",
    "pdp_share_eq = partial_dependence(\n",
    "    prob_forest_fit, rfvars, [\"share_eq\"], kind=\"average\"\n",
    ")\n",
    "\n",
    "pdp_share_eq = pd.DataFrame(\n",
    "    {'Shareholder equity in absolute value': pdp_share_eq['values'][0], \n",
    "     'Probability of default': pdp_share_eq['average'][0]}\n",
    "    )\n",
    "\n",
    "# plot the partial dependence plot\n",
    "ggplot(pdp_share_eq, aes(x='Shareholder equity in absolute value', y='Probability of default')) + \\\n",
    "    geom_point() + theme_bw() + geom_smooth(method='loess', se=False, color='red')"
   ]
  },
  {
   "cell_type": "markdown",
   "metadata": {},
   "source": [
    "From the plot, we can observe that as shareholder equity increases from zero, the probability of default sharply decreases initially, suggesting that firms with very low equity are at a higher risk of default. However, beyond a certain point, increases in shareholder equity have a diminishing effect on reducing default probability. For higher values of shareholder equity, the probability of default seems to level off, indicating that additional equity above this point does not significantly alter the default risk as assessed by the model. This plateau effect suggests that other factors might become more influential in predicting default risk once a firm has an adequate equity buffer."
   ]
  },
  {
   "cell_type": "markdown",
   "metadata": {},
   "source": [
    "## Conclusion"
   ]
  },
  {
   "cell_type": "code",
   "execution_count": null,
   "metadata": {},
   "outputs": [],
   "source": [
    "# show confusion matrix for random forest\n",
    "cm4\n",
    "# show confusion matrix for logistic regression\n",
    "cm3"
   ]
  }
 ],
 "metadata": {
  "kernelspec": {
   "display_name": "base",
   "language": "python",
   "name": "python3"
  },
  "language_info": {
   "codemirror_mode": {
    "name": "ipython",
    "version": 3
   },
   "file_extension": ".py",
   "mimetype": "text/x-python",
   "name": "python",
   "nbconvert_exporter": "python",
   "pygments_lexer": "ipython3",
   "version": "3.11.4"
  }
 },
 "nbformat": 4,
 "nbformat_minor": 2
}
